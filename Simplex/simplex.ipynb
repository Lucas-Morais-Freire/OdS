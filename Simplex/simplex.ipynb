{
 "cells": [
  {
   "cell_type": "code",
   "execution_count": 2,
   "metadata": {},
   "outputs": [],
   "source": [
    "from simplex import *"
   ]
  },
  {
   "cell_type": "code",
   "execution_count": 3,
   "metadata": {},
   "outputs": [],
   "source": [
    "z = [[-1, -2, 1], [True, False, True]]\n",
    "r = [[-2, -1, 1, '>=', -2],\n",
    "     [2, -1, 5, '<=', 6],\n",
    "     [-4, -1, -1, '>=', 6]]"
   ]
  },
  {
   "cell_type": "code",
   "execution_count": 4,
   "metadata": {},
   "outputs": [
    {
     "name": "stdout",
     "output_type": "stream",
     "text": [
      "[-1, -2,  2,  1, 0, 0, 0,  0]\n",
      "[ 2,  1, -1, -1, 1, 0, 0,  2]\n",
      "[ 2, -1,  1,  5, 0, 1, 0,  6]\n",
      "[ 4,  1, -1,  1, 0, 0, 1, -6]\n",
      "\n"
     ]
    }
   ],
   "source": [
    "m = makeMatrix(z, r, True)\n",
    "\n",
    "printMatrix(m)"
   ]
  },
  {
   "cell_type": "code",
   "execution_count": 5,
   "metadata": {},
   "outputs": [
    {
     "name": "stdout",
     "output_type": "stream",
     "text": [
      "2.0\n",
      "-6.0\n",
      "-6.0\n"
     ]
    }
   ],
   "source": [
    "printQValues(m, 1)"
   ]
  },
  {
   "cell_type": "code",
   "execution_count": 8,
   "metadata": {},
   "outputs": [
    {
     "name": "stdout",
     "output_type": "stream",
     "text": [
      "[3, 0,  0, -1,  2, 0, 0,  4]\n",
      "[2, 1, -1, -1,  1, 0, 0,  2]\n",
      "[4, 0,  0,  4,  1, 1, 0,  8]\n",
      "[2, 0,  0,  2, -1, 0, 1, -8]\n",
      "\n"
     ]
    }
   ],
   "source": [
    "makePivot(m, 1, 1)\n",
    "printMatrix(m)"
   ]
  },
  {
   "cell_type": "code",
   "execution_count": 9,
   "metadata": {},
   "outputs": [
    {
     "name": "stdout",
     "output_type": "stream",
     "text": [
      "-2.0\n",
      "2.0\n",
      "-4.0\n"
     ]
    }
   ],
   "source": [
    "printQValues(m, 3)"
   ]
  },
  {
   "cell_type": "code",
   "execution_count": 10,
   "metadata": {},
   "outputs": [
    {
     "name": "stdout",
     "output_type": "stream",
     "text": [
      "[4, 0,  0, 0,  9/4,  1/4, 0,   6]\n",
      "[3, 1, -1, 0,  5/4,  1/4, 0,   4]\n",
      "[1, 0,  0, 1,  1/4,  1/4, 0,   2]\n",
      "[0, 0,  0, 0, -3/2, -1/2, 1, -12]\n",
      "\n"
     ]
    }
   ],
   "source": [
    "makePivot(m, 2, 3)\n",
    "printMatrix(m)"
   ]
  },
  {
   "cell_type": "code",
   "execution_count": null,
   "metadata": {},
   "outputs": [],
   "source": []
  }
 ],
 "metadata": {
  "kernelspec": {
   "display_name": "Python 3",
   "language": "python",
   "name": "python3"
  },
  "language_info": {
   "codemirror_mode": {
    "name": "ipython",
    "version": 3
   },
   "file_extension": ".py",
   "mimetype": "text/x-python",
   "name": "python",
   "nbconvert_exporter": "python",
   "pygments_lexer": "ipython3",
   "version": "3.10.6"
  },
  "orig_nbformat": 4
 },
 "nbformat": 4,
 "nbformat_minor": 2
}
