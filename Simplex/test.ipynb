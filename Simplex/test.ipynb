{
 "cells": [
  {
   "cell_type": "code",
   "execution_count": 574,
   "metadata": {},
   "outputs": [],
   "source": [
    "from simplex import *"
   ]
  },
  {
   "cell_type": "code",
   "execution_count": 575,
   "metadata": {},
   "outputs": [
    {
     "data": {
      "text/html": [
       "<img src=\"http://latex.codecogs.com/png.latex?\\dpi{150}\\color{white} \\begin{array}{c|c|cccccc|c} \n",
       " & -W & x_{1} & x_{2} & x_{3} & x_{4} & x_{a} & x_{b} & b \\\\ \n",
       "\\hline\n",
       " q & 1 & 0 & 0 & 0 & 0 & 1 & 1 & 0 \\\\ \n",
       "3 \\slash 2 & 0 & 2 & 6 & 2 & 1 & 1 & 0 & 3 \\\\ \n",
       "2 \\slash 6 & 0 & 6 & 4 & 4 & -6 & 0 & 1 & 2 \\\\ \n",
       "\\end{array}\"/>"
      ],
      "text/plain": [
       "<IPython.core.display.Image object>"
      ]
     },
     "execution_count": 575,
     "metadata": {},
     "output_type": "execute_result"
    }
   ],
   "source": [
    "z = [[0, 0, 0, 0, 1, 1],[True for _ in range(6)]]\n",
    "varSubs=[1,2,3,4,\"a\",\"b\"]\n",
    "r = [[2, 6, 2,  1, 1, 0, \"=\", 3],\n",
    "     [6, 4, 4, -6, 0, 1, \"=\", 2]]\n",
    "\n",
    "m = makeMatrix(z, r, True)\n",
    "printTable(m, z, '-W', varSubs)"
   ]
  },
  {
   "cell_type": "code",
   "execution_count": 576,
   "metadata": {},
   "outputs": [
    {
     "data": {
      "text/html": [
       "<img src=\"http://latex.codecogs.com/png.latex?\\dpi{150}\\color{white} L_{1} \\rightarrow L_{1}\"/>"
      ],
      "text/plain": [
       "<IPython.core.display.Image object>"
      ]
     },
     "metadata": {},
     "output_type": "display_data"
    },
    {
     "data": {
      "text/html": [
       "<img src=\"http://latex.codecogs.com/png.latex?\\dpi{150}\\color{white} \\begin{array}{c|c|cccccc|c} \n",
       " & -W & x_{1} & x_{2} & x_{3} & x_{4} & x_{a} & x_{b} & b \\\\ \n",
       "\\hline\n",
       " q & 1 & 0 & 0 & 0 & 0 & 1 & 1 & 0 \\\\ \n",
       "3 \\slash 2 & 0 & 2 & 6 & 2 & 1 & 1 & 0 & 3 \\\\ \n",
       "2 \\slash 6 & 0 & 6 & 4 & 4 & -6 & 0 & 1 & 2 \\\\ \n",
       "\\end{array}\"/>"
      ],
      "text/plain": [
       "<IPython.core.display.Image object>"
      ]
     },
     "metadata": {},
     "output_type": "display_data"
    },
    {
     "data": {
      "text/html": [
       "<img src=\"http://latex.codecogs.com/png.latex?\\dpi{150}\\color{white} L_{0} \\rightarrow L_{0}-L_{1}\"/>"
      ],
      "text/plain": [
       "<IPython.core.display.Image object>"
      ]
     },
     "metadata": {},
     "output_type": "display_data"
    },
    {
     "data": {
      "text/html": [
       "<img src=\"http://latex.codecogs.com/png.latex?\\dpi{150}\\color{white} L_{2} \\rightarrow L_{2}\"/>"
      ],
      "text/plain": [
       "<IPython.core.display.Image object>"
      ]
     },
     "metadata": {},
     "output_type": "display_data"
    },
    {
     "data": {
      "text/html": [
       "<img src=\"http://latex.codecogs.com/png.latex?\\dpi{150}\\color{white} \\begin{array}{c|c|cccccc|c} \n",
       " & -W & x_{1} & x_{2} & x_{3} & x_{4} & x_{a} & x_{b} & b \\\\ \n",
       "\\hline\n",
       " q & 1 & -2 & -6 & -2 & -1 & 0 & 1 & -3 \\\\ \n",
       "3 \\slash 6 & 0 & 2 & 6 & 2 & 1 & 1 & 0 & 3 \\\\ \n",
       "2 \\slash 4 & 0 & 6 & 4 & 4 & -6 & 0 & 1 & 2 \\\\ \n",
       "\\end{array}\"/>"
      ],
      "text/plain": [
       "<IPython.core.display.Image object>"
      ]
     },
     "execution_count": 576,
     "metadata": {},
     "output_type": "execute_result"
    }
   ],
   "source": [
    "makePivot(m, 1, 4, z, '-W', varSubs)\n",
    "printTable(m, z, '-W', varSubs)"
   ]
  },
  {
   "cell_type": "code",
   "execution_count": 577,
   "metadata": {},
   "outputs": [
    {
     "data": {
      "text/html": [
       "<img src=\"http://latex.codecogs.com/png.latex?\\dpi{150}\\color{white} L_{2} \\rightarrow L_{2}\"/>"
      ],
      "text/plain": [
       "<IPython.core.display.Image object>"
      ]
     },
     "metadata": {},
     "output_type": "display_data"
    },
    {
     "data": {
      "text/html": [
       "<img src=\"http://latex.codecogs.com/png.latex?\\dpi{150}\\color{white} \\begin{array}{c|c|cccccc|c} \n",
       " & -W & x_{1} & x_{2} & x_{3} & x_{4} & x_{a} & x_{b} & b \\\\ \n",
       "\\hline\n",
       " q & 1 & -2 & -6 & -2 & -1 & 0 & 1 & -3 \\\\ \n",
       "3 \\slash 6 & 0 & 2 & 6 & 2 & 1 & 1 & 0 & 3 \\\\ \n",
       "2 \\slash 4 & 0 & 6 & 4 & 4 & -6 & 0 & 1 & 2 \\\\ \n",
       "\\end{array}\"/>"
      ],
      "text/plain": [
       "<IPython.core.display.Image object>"
      ]
     },
     "metadata": {},
     "output_type": "display_data"
    },
    {
     "data": {
      "text/html": [
       "<img src=\"http://latex.codecogs.com/png.latex?\\dpi{150}\\color{white} L_{0} \\rightarrow L_{0}-L_{2}\"/>"
      ],
      "text/plain": [
       "<IPython.core.display.Image object>"
      ]
     },
     "metadata": {},
     "output_type": "display_data"
    },
    {
     "data": {
      "text/html": [
       "<img src=\"http://latex.codecogs.com/png.latex?\\dpi{150}\\color{white} L_{1} \\rightarrow L_{1}\"/>"
      ],
      "text/plain": [
       "<IPython.core.display.Image object>"
      ]
     },
     "metadata": {},
     "output_type": "display_data"
    },
    {
     "data": {
      "text/html": [
       "<img src=\"http://latex.codecogs.com/png.latex?\\dpi{150}\\color{white} \\begin{array}{c|c|cccccc|c} \n",
       " & -W & x_{1} & x_{2} & x_{3} & x_{4} & x_{a} & x_{b} & b \\\\ \n",
       "\\hline\n",
       " q & 1 & -8 & -10 & -6 & 5 & 0 & 0 & -5 \\\\ \n",
       "3 \\slash 6 & 0 & 2 & 6 & 2 & 1 & 1 & 0 & 3 \\\\ \n",
       "2 \\slash 4 & 0 & 6 & 4 & 4 & -6 & 0 & 1 & 2 \\\\ \n",
       "\\end{array}\"/>"
      ],
      "text/plain": [
       "<IPython.core.display.Image object>"
      ]
     },
     "execution_count": 577,
     "metadata": {},
     "output_type": "execute_result"
    }
   ],
   "source": [
    "makePivot(m, 2, 5, z, '-W', varSubs)\n",
    "printTable(m, z, '-W', varSubs)"
   ]
  },
  {
   "cell_type": "code",
   "execution_count": 578,
   "metadata": {},
   "outputs": [
    {
     "data": {
      "text/html": [
       "<img src=\"http://latex.codecogs.com/png.latex?\\dpi{150}\\color{white} L_{1} \\rightarrow \\frac{1}{6}L_{1}\"/>"
      ],
      "text/plain": [
       "<IPython.core.display.Image object>"
      ]
     },
     "metadata": {},
     "output_type": "display_data"
    },
    {
     "data": {
      "text/html": [
       "<img src=\"http://latex.codecogs.com/png.latex?\\dpi{150}\\color{white} \\begin{array}{c|c|cccccc|c} \n",
       " & -W & x_{1} & x_{2} & x_{3} & x_{4} & x_{a} & x_{b} & b \\\\ \n",
       "\\hline\n",
       " q & 1 & -8 & -10 & -6 & 5 & 0 & 0 & -5 \\\\ \n",
       "1 \\slash 2 & 0 & \\frac{1}{3} & 1 & \\frac{1}{3} & \\frac{1}{6} & \\frac{1}{6} & 0 & \\frac{1}{2} \\\\ \n",
       "2 \\slash 4 & 0 & 6 & 4 & 4 & -6 & 0 & 1 & 2 \\\\ \n",
       "\\end{array}\"/>"
      ],
      "text/plain": [
       "<IPython.core.display.Image object>"
      ]
     },
     "metadata": {},
     "output_type": "display_data"
    },
    {
     "data": {
      "text/html": [
       "<img src=\"http://latex.codecogs.com/png.latex?\\dpi{150}\\color{white} L_{0} \\rightarrow L_{0}+10L_{1}\"/>"
      ],
      "text/plain": [
       "<IPython.core.display.Image object>"
      ]
     },
     "metadata": {},
     "output_type": "display_data"
    },
    {
     "data": {
      "text/html": [
       "<img src=\"http://latex.codecogs.com/png.latex?\\dpi{150}\\color{white} L_{2} \\rightarrow L_{2}-4L_{1}\"/>"
      ],
      "text/plain": [
       "<IPython.core.display.Image object>"
      ]
     },
     "metadata": {},
     "output_type": "display_data"
    },
    {
     "data": {
      "text/html": [
       "<img src=\"http://latex.codecogs.com/png.latex?\\dpi{150}\\color{white} \\begin{array}{c|c|cccccc|c} \n",
       " & -W & x_{1} & x_{2} & x_{3} & x_{4} & x_{a} & x_{b} & b \\\\ \n",
       "\\hline\n",
       " q & 1 & \\frac{-14}{3} & 0 & \\frac{-8}{3} & \\frac{20}{3} & \\frac{5}{3} & 0 & 0 \\\\ \n",
       "3 \\slash 2 & 0 & \\frac{1}{3} & 1 & \\frac{1}{3} & \\frac{1}{6} & \\frac{1}{6} & 0 & \\frac{1}{2} \\\\ \n",
       "0 \\slash 14 & 0 & \\frac{14}{3} & 0 & \\frac{8}{3} & \\frac{-20}{3} & \\frac{-2}{3} & 1 & 0 \\\\ \n",
       "\\end{array}\"/>"
      ],
      "text/plain": [
       "<IPython.core.display.Image object>"
      ]
     },
     "execution_count": 578,
     "metadata": {},
     "output_type": "execute_result"
    }
   ],
   "source": [
    "makePivot(m, 1, 1, z, '-W', varSubs)\n",
    "printTable(m, z, '-W', varSubs)"
   ]
  },
  {
   "cell_type": "code",
   "execution_count": 579,
   "metadata": {},
   "outputs": [
    {
     "data": {
      "text/html": [
       "<img src=\"http://latex.codecogs.com/png.latex?\\dpi{150}\\color{white} L_{2} \\rightarrow \\frac{3}{14}L_{2}\"/>"
      ],
      "text/plain": [
       "<IPython.core.display.Image object>"
      ]
     },
     "metadata": {},
     "output_type": "display_data"
    },
    {
     "data": {
      "text/html": [
       "<img src=\"http://latex.codecogs.com/png.latex?\\dpi{150}\\color{white} \\begin{array}{c|c|cccccc|c} \n",
       " & -W & x_{1} & x_{2} & x_{3} & x_{4} & x_{a} & x_{b} & b \\\\ \n",
       "\\hline\n",
       " q & 1 & \\frac{-14}{3} & 0 & \\frac{-8}{3} & \\frac{20}{3} & \\frac{5}{3} & 0 & 0 \\\\ \n",
       "3 \\slash 2 & 0 & \\frac{1}{3} & 1 & \\frac{1}{3} & \\frac{1}{6} & \\frac{1}{6} & 0 & \\frac{1}{2} \\\\ \n",
       "0 \\slash 1 & 0 & 1 & 0 & \\frac{4}{7} & \\frac{-10}{7} & \\frac{-1}{7} & \\frac{3}{14} & 0 \\\\ \n",
       "\\end{array}\"/>"
      ],
      "text/plain": [
       "<IPython.core.display.Image object>"
      ]
     },
     "metadata": {},
     "output_type": "display_data"
    },
    {
     "data": {
      "text/html": [
       "<img src=\"http://latex.codecogs.com/png.latex?\\dpi{150}\\color{white} L_{0} \\rightarrow L_{0}+\\frac{14}{3}L_{2}\"/>"
      ],
      "text/plain": [
       "<IPython.core.display.Image object>"
      ]
     },
     "metadata": {},
     "output_type": "display_data"
    },
    {
     "data": {
      "text/html": [
       "<img src=\"http://latex.codecogs.com/png.latex?\\dpi{150}\\color{white} L_{1} \\rightarrow L_{1}-\\frac{1}{3}L_{2}\"/>"
      ],
      "text/plain": [
       "<IPython.core.display.Image object>"
      ]
     },
     "metadata": {},
     "output_type": "display_data"
    },
    {
     "data": {
      "text/html": [
       "<img src=\"http://latex.codecogs.com/png.latex?\\dpi{150}\\color{white} \\begin{array}{c|c|cccccc|c} \n",
       " & -W & x_{1} & x_{2} & x_{3} & x_{4} & x_{a} & x_{b} & b \\\\ \n",
       "\\hline\n",
       " q & 1 & 0 & 0 & 0 & 0 & 1 & 1 & 0 \\\\ \n",
       "1 \\slash 0 & 0 & 0 & 1 & \\frac{1}{7} & \\frac{9}{14} & \\frac{3}{14} & \\frac{-1}{14} & \\frac{1}{2} \\\\ \n",
       "0 \\slash 1 & 0 & 1 & 0 & \\frac{4}{7} & \\frac{-10}{7} & \\frac{-1}{7} & \\frac{3}{14} & 0 \\\\ \n",
       "\\end{array}\"/>"
      ],
      "text/plain": [
       "<IPython.core.display.Image object>"
      ]
     },
     "execution_count": 579,
     "metadata": {},
     "output_type": "execute_result"
    }
   ],
   "source": [
    "makePivot(m, 2, 0, z, '-W', varSubs)\n",
    "printTable(m, z, '-W', varSubs)"
   ]
  },
  {
   "cell_type": "markdown",
   "metadata": {},
   "source": [
    "SOLUÇÃO 1 ^"
   ]
  },
  {
   "cell_type": "code",
   "execution_count": 580,
   "metadata": {},
   "outputs": [
    {
     "data": {
      "text/html": [
       "<img src=\"http://latex.codecogs.com/png.latex?\\dpi{150}\\color{white} L_{2} \\rightarrow -\\frac{7}{10}L_{2}\"/>"
      ],
      "text/plain": [
       "<IPython.core.display.Image object>"
      ]
     },
     "metadata": {},
     "output_type": "display_data"
    },
    {
     "data": {
      "text/html": [
       "<img src=\"http://latex.codecogs.com/png.latex?\\dpi{150}\\color{white} \\begin{array}{c|c|cccccc|c} \n",
       " & -W & x_{1} & x_{2} & x_{3} & x_{4} & x_{a} & x_{b} & b \\\\ \n",
       "\\hline\n",
       " q & 1 & 0 & 0 & 0 & 0 & 1 & 1 & 0 \\\\ \n",
       "1 \\slash 0 & 0 & 0 & 1 & \\frac{1}{7} & \\frac{9}{14} & \\frac{3}{14} & \\frac{-1}{14} & \\frac{1}{2} \\\\ \n",
       "0 \\slash -7 & 0 & \\frac{-7}{10} & 0 & \\frac{-2}{5} & 1 & \\frac{1}{10} & \\frac{-3}{20} & 0 \\\\ \n",
       "\\end{array}\"/>"
      ],
      "text/plain": [
       "<IPython.core.display.Image object>"
      ]
     },
     "metadata": {},
     "output_type": "display_data"
    },
    {
     "data": {
      "text/html": [
       "<img src=\"http://latex.codecogs.com/png.latex?\\dpi{150}\\color{white} L_{0} \\rightarrow L_{0}\"/>"
      ],
      "text/plain": [
       "<IPython.core.display.Image object>"
      ]
     },
     "metadata": {},
     "output_type": "display_data"
    },
    {
     "data": {
      "text/html": [
       "<img src=\"http://latex.codecogs.com/png.latex?\\dpi{150}\\color{white} L_{1} \\rightarrow L_{1}-\\frac{9}{14}L_{2}\"/>"
      ],
      "text/plain": [
       "<IPython.core.display.Image object>"
      ]
     },
     "metadata": {},
     "output_type": "display_data"
    },
    {
     "data": {
      "text/html": [
       "<img src=\"http://latex.codecogs.com/png.latex?\\dpi{150}\\color{white} \\begin{array}{c|c|cccccc|c} \n",
       " & -W & x_{1} & x_{2} & x_{3} & x_{4} & x_{a} & x_{b} & b \\\\ \n",
       "\\hline\n",
       " q & 1 & 0 & 0 & 0 & 0 & 1 & 1 & 0 \\\\ \n",
       "20 \\slash 18 & 0 & \\frac{9}{20} & 1 & \\frac{2}{5} & 0 & \\frac{3}{20} & \\frac{1}{40} & \\frac{1}{2} \\\\ \n",
       "0 \\slash -7 & 0 & \\frac{-7}{10} & 0 & \\frac{-2}{5} & 1 & \\frac{1}{10} & \\frac{-3}{20} & 0 \\\\ \n",
       "\\end{array}\"/>"
      ],
      "text/plain": [
       "<IPython.core.display.Image object>"
      ]
     },
     "execution_count": 580,
     "metadata": {},
     "output_type": "execute_result"
    }
   ],
   "source": [
    "makePivot(m, 2, 3, z, '-W', varSubs)\n",
    "printTable(m, z, '-W', varSubs)"
   ]
  },
  {
   "cell_type": "code",
   "execution_count": 581,
   "metadata": {},
   "outputs": [
    {
     "data": {
      "text/html": [
       "<img src=\"http://latex.codecogs.com/png.latex?\\dpi{150}\\color{white} L_{2} \\rightarrow -\\frac{5}{2}L_{2}\"/>"
      ],
      "text/plain": [
       "<IPython.core.display.Image object>"
      ]
     },
     "metadata": {},
     "output_type": "display_data"
    },
    {
     "data": {
      "text/html": [
       "<img src=\"http://latex.codecogs.com/png.latex?\\dpi{150}\\color{white} \\begin{array}{c|c|cccccc|c} \n",
       " & -W & x_{1} & x_{2} & x_{3} & x_{4} & x_{a} & x_{b} & b \\\\ \n",
       "\\hline\n",
       " q & 1 & 0 & 0 & 0 & 0 & 1 & 1 & 0 \\\\ \n",
       "20 \\slash 18 & 0 & \\frac{9}{20} & 1 & \\frac{2}{5} & 0 & \\frac{3}{20} & \\frac{1}{40} & \\frac{1}{2} \\\\ \n",
       "0 \\slash 7 & 0 & \\frac{7}{4} & 0 & 1 & \\frac{-5}{2} & \\frac{-1}{4} & \\frac{3}{8} & 0 \\\\ \n",
       "\\end{array}\"/>"
      ],
      "text/plain": [
       "<IPython.core.display.Image object>"
      ]
     },
     "metadata": {},
     "output_type": "display_data"
    },
    {
     "data": {
      "text/html": [
       "<img src=\"http://latex.codecogs.com/png.latex?\\dpi{150}\\color{white} L_{0} \\rightarrow L_{0}\"/>"
      ],
      "text/plain": [
       "<IPython.core.display.Image object>"
      ]
     },
     "metadata": {},
     "output_type": "display_data"
    },
    {
     "data": {
      "text/html": [
       "<img src=\"http://latex.codecogs.com/png.latex?\\dpi{150}\\color{white} L_{1} \\rightarrow L_{1}-\\frac{2}{5}L_{2}\"/>"
      ],
      "text/plain": [
       "<IPython.core.display.Image object>"
      ]
     },
     "metadata": {},
     "output_type": "display_data"
    },
    {
     "data": {
      "text/html": [
       "<img src=\"http://latex.codecogs.com/png.latex?\\dpi{150}\\color{white} \\begin{array}{c|c|cccccc|c} \n",
       " & -W & x_{1} & x_{2} & x_{3} & x_{4} & x_{a} & x_{b} & b \\\\ \n",
       "\\hline\n",
       " q & 1 & 0 & 0 & 0 & 0 & 1 & 1 & 0 \\\\ \n",
       "4 \\slash -2 & 0 & \\frac{-1}{4} & 1 & 0 & 1 & \\frac{1}{4} & \\frac{-1}{8} & \\frac{1}{2} \\\\ \n",
       "0 \\slash 7 & 0 & \\frac{7}{4} & 0 & 1 & \\frac{-5}{2} & \\frac{-1}{4} & \\frac{3}{8} & 0 \\\\ \n",
       "\\end{array}\"/>"
      ],
      "text/plain": [
       "<IPython.core.display.Image object>"
      ]
     },
     "execution_count": 581,
     "metadata": {},
     "output_type": "execute_result"
    }
   ],
   "source": [
    "makePivot(m, 2, 2, z, '-W', varSubs)\n",
    "printTable(m, z, '-W', varSubs)"
   ]
  },
  {
   "cell_type": "code",
   "execution_count": 582,
   "metadata": {},
   "outputs": [
    {
     "data": {
      "text/html": [
       "<img src=\"http://latex.codecogs.com/png.latex?\\dpi{150}\\color{white} L_{2} \\rightarrow \\frac{4}{7}L_{2}\"/>"
      ],
      "text/plain": [
       "<IPython.core.display.Image object>"
      ]
     },
     "metadata": {},
     "output_type": "display_data"
    },
    {
     "data": {
      "text/html": [
       "<img src=\"http://latex.codecogs.com/png.latex?\\dpi{150}\\color{white} \\begin{array}{c|c|cccccc|c} \n",
       " & -W & x_{1} & x_{2} & x_{3} & x_{4} & x_{a} & x_{b} & b \\\\ \n",
       "\\hline\n",
       " q & 1 & 0 & 0 & 0 & 0 & 1 & 1 & 0 \\\\ \n",
       "4 \\slash -2 & 0 & \\frac{-1}{4} & 1 & 0 & 1 & \\frac{1}{4} & \\frac{-1}{8} & \\frac{1}{2} \\\\ \n",
       "0 \\slash 1 & 0 & 1 & 0 & \\frac{4}{7} & \\frac{-10}{7} & \\frac{-1}{7} & \\frac{3}{14} & 0 \\\\ \n",
       "\\end{array}\"/>"
      ],
      "text/plain": [
       "<IPython.core.display.Image object>"
      ]
     },
     "metadata": {},
     "output_type": "display_data"
    },
    {
     "data": {
      "text/html": [
       "<img src=\"http://latex.codecogs.com/png.latex?\\dpi{150}\\color{white} L_{0} \\rightarrow L_{0}\"/>"
      ],
      "text/plain": [
       "<IPython.core.display.Image object>"
      ]
     },
     "metadata": {},
     "output_type": "display_data"
    },
    {
     "data": {
      "text/html": [
       "<img src=\"http://latex.codecogs.com/png.latex?\\dpi{150}\\color{white} L_{1} \\rightarrow L_{1}+\\frac{1}{4}L_{2}\"/>"
      ],
      "text/plain": [
       "<IPython.core.display.Image object>"
      ]
     },
     "metadata": {},
     "output_type": "display_data"
    },
    {
     "data": {
      "text/html": [
       "<img src=\"http://latex.codecogs.com/png.latex?\\dpi{150}\\color{white} \\begin{array}{c|c|cccccc|c} \n",
       " & -W & x_{1} & x_{2} & x_{3} & x_{4} & x_{a} & x_{b} & b \\\\ \n",
       "\\hline\n",
       " q & 1 & 0 & 0 & 0 & 0 & 1 & 1 & 0 \\\\ \n",
       "1 \\slash 0 & 0 & 0 & 1 & \\frac{1}{7} & \\frac{9}{14} & \\frac{3}{14} & \\frac{-1}{14} & \\frac{1}{2} \\\\ \n",
       "0 \\slash 1 & 0 & 1 & 0 & \\frac{4}{7} & \\frac{-10}{7} & \\frac{-1}{7} & \\frac{3}{14} & 0 \\\\ \n",
       "\\end{array}\"/>"
      ],
      "text/plain": [
       "<IPython.core.display.Image object>"
      ]
     },
     "execution_count": 582,
     "metadata": {},
     "output_type": "execute_result"
    }
   ],
   "source": [
    "makePivot(m, 2, 0, z, '-W', varSubs)\n",
    "printTable(m, z, '-W', varSubs)"
   ]
  },
  {
   "cell_type": "code",
   "execution_count": 583,
   "metadata": {},
   "outputs": [
    {
     "data": {
      "text/html": [
       "<img src=\"http://latex.codecogs.com/png.latex?\\dpi{150}\\color{white} L_{2} \\rightarrow \\frac{7}{4}L_{2}\"/>"
      ],
      "text/plain": [
       "<IPython.core.display.Image object>"
      ]
     },
     "metadata": {},
     "output_type": "display_data"
    },
    {
     "data": {
      "text/html": [
       "<img src=\"http://latex.codecogs.com/png.latex?\\dpi{150}\\color{white} \\begin{array}{c|c|cccccc|c} \n",
       " & -W & x_{1} & x_{2} & x_{3} & x_{4} & x_{a} & x_{b} & b \\\\ \n",
       "\\hline\n",
       " q & 1 & 0 & 0 & 0 & 0 & 1 & 1 & 0 \\\\ \n",
       "1 \\slash 0 & 0 & 0 & 1 & \\frac{1}{7} & \\frac{9}{14} & \\frac{3}{14} & \\frac{-1}{14} & \\frac{1}{2} \\\\ \n",
       "0 \\slash 7 & 0 & \\frac{7}{4} & 0 & 1 & \\frac{-5}{2} & \\frac{-1}{4} & \\frac{3}{8} & 0 \\\\ \n",
       "\\end{array}\"/>"
      ],
      "text/plain": [
       "<IPython.core.display.Image object>"
      ]
     },
     "metadata": {},
     "output_type": "display_data"
    },
    {
     "data": {
      "text/html": [
       "<img src=\"http://latex.codecogs.com/png.latex?\\dpi{150}\\color{white} L_{0} \\rightarrow L_{0}\"/>"
      ],
      "text/plain": [
       "<IPython.core.display.Image object>"
      ]
     },
     "metadata": {},
     "output_type": "display_data"
    },
    {
     "data": {
      "text/html": [
       "<img src=\"http://latex.codecogs.com/png.latex?\\dpi{150}\\color{white} L_{1} \\rightarrow L_{1}-\\frac{1}{7}L_{2}\"/>"
      ],
      "text/plain": [
       "<IPython.core.display.Image object>"
      ]
     },
     "metadata": {},
     "output_type": "display_data"
    },
    {
     "data": {
      "text/html": [
       "<img src=\"http://latex.codecogs.com/png.latex?\\dpi{150}\\color{white} \\begin{array}{c|c|cccccc|c} \n",
       " & -W & x_{1} & x_{2} & x_{3} & x_{4} & x_{a} & x_{b} & b \\\\ \n",
       "\\hline\n",
       " q & 1 & 0 & 0 & 0 & 0 & 1 & 1 & 0 \\\\ \n",
       "4 \\slash -2 & 0 & \\frac{-1}{4} & 1 & 0 & 1 & \\frac{1}{4} & \\frac{-1}{8} & \\frac{1}{2} \\\\ \n",
       "0 \\slash 7 & 0 & \\frac{7}{4} & 0 & 1 & \\frac{-5}{2} & \\frac{-1}{4} & \\frac{3}{8} & 0 \\\\ \n",
       "\\end{array}\"/>"
      ],
      "text/plain": [
       "<IPython.core.display.Image object>"
      ]
     },
     "execution_count": 583,
     "metadata": {},
     "output_type": "execute_result"
    }
   ],
   "source": [
    "makePivot(m, 2, 2, z, '-W', varSubs)\n",
    "printTable(m, z, '-W', varSubs)"
   ]
  },
  {
   "cell_type": "code",
   "execution_count": 584,
   "metadata": {},
   "outputs": [
    {
     "data": {
      "text/html": [
       "<img src=\"http://latex.codecogs.com/png.latex?\\dpi{150}\\color{white} L_{1} \\rightarrow L_{1}\"/>"
      ],
      "text/plain": [
       "<IPython.core.display.Image object>"
      ]
     },
     "metadata": {},
     "output_type": "display_data"
    },
    {
     "data": {
      "text/html": [
       "<img src=\"http://latex.codecogs.com/png.latex?\\dpi{150}\\color{white} \\begin{array}{c|c|cccccc|c} \n",
       " & -W & x_{1} & x_{2} & x_{3} & x_{4} & x_{a} & x_{b} & b \\\\ \n",
       "\\hline\n",
       " q & 1 & 0 & 0 & 0 & 0 & 1 & 1 & 0 \\\\ \n",
       "4 \\slash -2 & 0 & \\frac{-1}{4} & 1 & 0 & 1 & \\frac{1}{4} & \\frac{-1}{8} & \\frac{1}{2} \\\\ \n",
       "0 \\slash 7 & 0 & \\frac{7}{4} & 0 & 1 & \\frac{-5}{2} & \\frac{-1}{4} & \\frac{3}{8} & 0 \\\\ \n",
       "\\end{array}\"/>"
      ],
      "text/plain": [
       "<IPython.core.display.Image object>"
      ]
     },
     "metadata": {},
     "output_type": "display_data"
    },
    {
     "data": {
      "text/html": [
       "<img src=\"http://latex.codecogs.com/png.latex?\\dpi{150}\\color{white} L_{0} \\rightarrow L_{0}\"/>"
      ],
      "text/plain": [
       "<IPython.core.display.Image object>"
      ]
     },
     "metadata": {},
     "output_type": "display_data"
    },
    {
     "data": {
      "text/html": [
       "<img src=\"http://latex.codecogs.com/png.latex?\\dpi{150}\\color{white} L_{2} \\rightarrow L_{2}+\\frac{5}{2}L_{1}\"/>"
      ],
      "text/plain": [
       "<IPython.core.display.Image object>"
      ]
     },
     "metadata": {},
     "output_type": "display_data"
    },
    {
     "data": {
      "text/html": [
       "<img src=\"http://latex.codecogs.com/png.latex?\\dpi{150}\\color{white} \\begin{array}{c|c|cccccc|c} \n",
       " & -W & x_{1} & x_{2} & x_{3} & x_{4} & x_{a} & x_{b} & b \\\\ \n",
       "\\hline\n",
       " q & 1 & 0 & 0 & 0 & 0 & 1 & 1 & 0 \\\\ \n",
       "4 \\slash -2 & 0 & \\frac{-1}{4} & 1 & 0 & 1 & \\frac{1}{4} & \\frac{-1}{8} & \\frac{1}{2} \\\\ \n",
       "40 \\slash 36 & 0 & \\frac{9}{8} & \\frac{5}{2} & 1 & 0 & \\frac{3}{8} & \\frac{1}{16} & \\frac{5}{4} \\\\ \n",
       "\\end{array}\"/>"
      ],
      "text/plain": [
       "<IPython.core.display.Image object>"
      ]
     },
     "execution_count": 584,
     "metadata": {},
     "output_type": "execute_result"
    }
   ],
   "source": [
    "makePivot(m, 1, 3, z, '-W', varSubs)\n",
    "printTable(m, z, '-W', varSubs)"
   ]
  },
  {
   "cell_type": "markdown",
   "metadata": {},
   "source": [
    "SOLUÇÃO 2 ^"
   ]
  },
  {
   "cell_type": "code",
   "execution_count": 585,
   "metadata": {},
   "outputs": [
    {
     "data": {
      "text/html": [
       "<img src=\"http://latex.codecogs.com/png.latex?\\dpi{150}\\color{white} L_{2} \\rightarrow \\frac{8}{9}L_{2}\"/>"
      ],
      "text/plain": [
       "<IPython.core.display.Image object>"
      ]
     },
     "metadata": {},
     "output_type": "display_data"
    },
    {
     "data": {
      "text/html": [
       "<img src=\"http://latex.codecogs.com/png.latex?\\dpi{150}\\color{white} \\begin{array}{c|c|cccccc|c} \n",
       " & -W & x_{1} & x_{2} & x_{3} & x_{4} & x_{a} & x_{b} & b \\\\ \n",
       "\\hline\n",
       " q & 1 & 0 & 0 & 0 & 0 & 1 & 1 & 0 \\\\ \n",
       "4 \\slash -2 & 0 & \\frac{-1}{4} & 1 & 0 & 1 & \\frac{1}{4} & \\frac{-1}{8} & \\frac{1}{2} \\\\ \n",
       "10 \\slash 9 & 0 & 1 & \\frac{20}{9} & \\frac{8}{9} & 0 & \\frac{1}{3} & \\frac{1}{18} & \\frac{10}{9} \\\\ \n",
       "\\end{array}\"/>"
      ],
      "text/plain": [
       "<IPython.core.display.Image object>"
      ]
     },
     "metadata": {},
     "output_type": "display_data"
    },
    {
     "data": {
      "text/html": [
       "<img src=\"http://latex.codecogs.com/png.latex?\\dpi{150}\\color{white} L_{0} \\rightarrow L_{0}\"/>"
      ],
      "text/plain": [
       "<IPython.core.display.Image object>"
      ]
     },
     "metadata": {},
     "output_type": "display_data"
    },
    {
     "data": {
      "text/html": [
       "<img src=\"http://latex.codecogs.com/png.latex?\\dpi{150}\\color{white} L_{1} \\rightarrow L_{1}+\\frac{1}{4}L_{2}\"/>"
      ],
      "text/plain": [
       "<IPython.core.display.Image object>"
      ]
     },
     "metadata": {},
     "output_type": "display_data"
    },
    {
     "data": {
      "text/html": [
       "<img src=\"http://latex.codecogs.com/png.latex?\\dpi{150}\\color{white} \\begin{array}{c|c|cccccc|c} \n",
       " & -W & x_{1} & x_{2} & x_{3} & x_{4} & x_{a} & x_{b} & b \\\\ \n",
       "\\hline\n",
       " q & 1 & 0 & 0 & 0 & 0 & 1 & 1 & 0 \\\\ \n",
       "7 \\slash 0 & 0 & 0 & \\frac{14}{9} & \\frac{2}{9} & 1 & \\frac{1}{3} & \\frac{-1}{9} & \\frac{7}{9} \\\\ \n",
       "10 \\slash 9 & 0 & 1 & \\frac{20}{9} & \\frac{8}{9} & 0 & \\frac{1}{3} & \\frac{1}{18} & \\frac{10}{9} \\\\ \n",
       "\\end{array}\"/>"
      ],
      "text/plain": [
       "<IPython.core.display.Image object>"
      ]
     },
     "execution_count": 585,
     "metadata": {},
     "output_type": "execute_result"
    }
   ],
   "source": [
    "makePivot(m, 2, 0, z, '-W', varSubs)\n",
    "printTable(m, z, '-W', varSubs)"
   ]
  },
  {
   "cell_type": "markdown",
   "metadata": {},
   "source": [
    "SOLUÇÃO 3 ^"
   ]
  },
  {
   "cell_type": "code",
   "execution_count": 586,
   "metadata": {},
   "outputs": [
    {
     "data": {
      "text/html": [
       "<img src=\"http://latex.codecogs.com/png.latex?\\dpi{150}\\color{white} L_{1} \\rightarrow \\frac{9}{14}L_{1}\"/>"
      ],
      "text/plain": [
       "<IPython.core.display.Image object>"
      ]
     },
     "metadata": {},
     "output_type": "display_data"
    },
    {
     "data": {
      "text/html": [
       "<img src=\"http://latex.codecogs.com/png.latex?\\dpi{150}\\color{white} \\begin{array}{c|c|cccccc|c} \n",
       " & -W & x_{1} & x_{2} & x_{3} & x_{4} & x_{a} & x_{b} & b \\\\ \n",
       "\\hline\n",
       " q & 1 & 0 & 0 & 0 & 0 & 1 & 1 & 0 \\\\ \n",
       "1 \\slash 0 & 0 & 0 & 1 & \\frac{1}{7} & \\frac{9}{14} & \\frac{3}{14} & \\frac{-1}{14} & \\frac{1}{2} \\\\ \n",
       "10 \\slash 9 & 0 & 1 & \\frac{20}{9} & \\frac{8}{9} & 0 & \\frac{1}{3} & \\frac{1}{18} & \\frac{10}{9} \\\\ \n",
       "\\end{array}\"/>"
      ],
      "text/plain": [
       "<IPython.core.display.Image object>"
      ]
     },
     "metadata": {},
     "output_type": "display_data"
    },
    {
     "data": {
      "text/html": [
       "<img src=\"http://latex.codecogs.com/png.latex?\\dpi{150}\\color{white} L_{0} \\rightarrow L_{0}\"/>"
      ],
      "text/plain": [
       "<IPython.core.display.Image object>"
      ]
     },
     "metadata": {},
     "output_type": "display_data"
    },
    {
     "data": {
      "text/html": [
       "<img src=\"http://latex.codecogs.com/png.latex?\\dpi{150}\\color{white} L_{2} \\rightarrow L_{2}-\\frac{20}{9}L_{1}\"/>"
      ],
      "text/plain": [
       "<IPython.core.display.Image object>"
      ]
     },
     "metadata": {},
     "output_type": "display_data"
    },
    {
     "data": {
      "text/html": [
       "<img src=\"http://latex.codecogs.com/png.latex?\\dpi{150}\\color{white} \\begin{array}{c|c|cccccc|c} \n",
       " & -W & x_{1} & x_{2} & x_{3} & x_{4} & x_{a} & x_{b} & b \\\\ \n",
       "\\hline\n",
       " q & 1 & 0 & 0 & 0 & 0 & 1 & 1 & 0 \\\\ \n",
       "1 \\slash 0 & 0 & 0 & 1 & \\frac{1}{7} & \\frac{9}{14} & \\frac{3}{14} & \\frac{-1}{14} & \\frac{1}{2} \\\\ \n",
       "0 \\slash 1 & 0 & 1 & 0 & \\frac{4}{7} & \\frac{-10}{7} & \\frac{-1}{7} & \\frac{3}{14} & 0 \\\\ \n",
       "\\end{array}\"/>"
      ],
      "text/plain": [
       "<IPython.core.display.Image object>"
      ]
     },
     "execution_count": 586,
     "metadata": {},
     "output_type": "execute_result"
    }
   ],
   "source": [
    "makePivot(m, 1, 1, z, '-W', varSubs)\n",
    "printTable(m, z, '-W', varSubs)"
   ]
  },
  {
   "cell_type": "code",
   "execution_count": 587,
   "metadata": {},
   "outputs": [
    {
     "data": {
      "text/html": [
       "<img src=\"http://latex.codecogs.com/png.latex?\\dpi{150}\\color{white} L_{1} \\rightarrow \\frac{14}{9}L_{1}\"/>"
      ],
      "text/plain": [
       "<IPython.core.display.Image object>"
      ]
     },
     "metadata": {},
     "output_type": "display_data"
    },
    {
     "data": {
      "text/html": [
       "<img src=\"http://latex.codecogs.com/png.latex?\\dpi{150}\\color{white} \\begin{array}{c|c|cccccc|c} \n",
       " & -W & x_{1} & x_{2} & x_{3} & x_{4} & x_{a} & x_{b} & b \\\\ \n",
       "\\hline\n",
       " q & 1 & 0 & 0 & 0 & 0 & 1 & 1 & 0 \\\\ \n",
       "7 \\slash 0 & 0 & 0 & \\frac{14}{9} & \\frac{2}{9} & 1 & \\frac{1}{3} & \\frac{-1}{9} & \\frac{7}{9} \\\\ \n",
       "0 \\slash 1 & 0 & 1 & 0 & \\frac{4}{7} & \\frac{-10}{7} & \\frac{-1}{7} & \\frac{3}{14} & 0 \\\\ \n",
       "\\end{array}\"/>"
      ],
      "text/plain": [
       "<IPython.core.display.Image object>"
      ]
     },
     "metadata": {},
     "output_type": "display_data"
    },
    {
     "data": {
      "text/html": [
       "<img src=\"http://latex.codecogs.com/png.latex?\\dpi{150}\\color{white} L_{0} \\rightarrow L_{0}\"/>"
      ],
      "text/plain": [
       "<IPython.core.display.Image object>"
      ]
     },
     "metadata": {},
     "output_type": "display_data"
    },
    {
     "data": {
      "text/html": [
       "<img src=\"http://latex.codecogs.com/png.latex?\\dpi{150}\\color{white} L_{2} \\rightarrow L_{2}+\\frac{10}{7}L_{1}\"/>"
      ],
      "text/plain": [
       "<IPython.core.display.Image object>"
      ]
     },
     "metadata": {},
     "output_type": "display_data"
    },
    {
     "data": {
      "text/html": [
       "<img src=\"http://latex.codecogs.com/png.latex?\\dpi{150}\\color{white} \\begin{array}{c|c|cccccc|c} \n",
       " & -W & x_{1} & x_{2} & x_{3} & x_{4} & x_{a} & x_{b} & b \\\\ \n",
       "\\hline\n",
       " q & 1 & 0 & 0 & 0 & 0 & 1 & 1 & 0 \\\\ \n",
       "7 \\slash 0 & 0 & 0 & \\frac{14}{9} & \\frac{2}{9} & 1 & \\frac{1}{3} & \\frac{-1}{9} & \\frac{7}{9} \\\\ \n",
       "10 \\slash 9 & 0 & 1 & \\frac{20}{9} & \\frac{8}{9} & 0 & \\frac{1}{3} & \\frac{1}{18} & \\frac{10}{9} \\\\ \n",
       "\\end{array}\"/>"
      ],
      "text/plain": [
       "<IPython.core.display.Image object>"
      ]
     },
     "execution_count": 587,
     "metadata": {},
     "output_type": "execute_result"
    }
   ],
   "source": [
    "makePivot(m, 1, 3, z, '-W', varSubs)\n",
    "printTable(m, z, '-W', varSubs)"
   ]
  },
  {
   "cell_type": "code",
   "execution_count": 588,
   "metadata": {},
   "outputs": [
    {
     "data": {
      "text/html": [
       "<img src=\"http://latex.codecogs.com/png.latex?\\dpi{150}\\color{white} L_{2} \\rightarrow \\frac{9}{20}L_{2}\"/>"
      ],
      "text/plain": [
       "<IPython.core.display.Image object>"
      ]
     },
     "metadata": {},
     "output_type": "display_data"
    },
    {
     "data": {
      "text/html": [
       "<img src=\"http://latex.codecogs.com/png.latex?\\dpi{150}\\color{white} \\begin{array}{c|c|cccccc|c} \n",
       " & -W & x_{1} & x_{2} & x_{3} & x_{4} & x_{a} & x_{b} & b \\\\ \n",
       "\\hline\n",
       " q & 1 & 0 & 0 & 0 & 0 & 1 & 1 & 0 \\\\ \n",
       "7 \\slash 0 & 0 & 0 & \\frac{14}{9} & \\frac{2}{9} & 1 & \\frac{1}{3} & \\frac{-1}{9} & \\frac{7}{9} \\\\ \n",
       "20 \\slash 18 & 0 & \\frac{9}{20} & 1 & \\frac{2}{5} & 0 & \\frac{3}{20} & \\frac{1}{40} & \\frac{1}{2} \\\\ \n",
       "\\end{array}\"/>"
      ],
      "text/plain": [
       "<IPython.core.display.Image object>"
      ]
     },
     "metadata": {},
     "output_type": "display_data"
    },
    {
     "data": {
      "text/html": [
       "<img src=\"http://latex.codecogs.com/png.latex?\\dpi{150}\\color{white} L_{0} \\rightarrow L_{0}\"/>"
      ],
      "text/plain": [
       "<IPython.core.display.Image object>"
      ]
     },
     "metadata": {},
     "output_type": "display_data"
    },
    {
     "data": {
      "text/html": [
       "<img src=\"http://latex.codecogs.com/png.latex?\\dpi{150}\\color{white} L_{1} \\rightarrow L_{1}-\\frac{14}{9}L_{2}\"/>"
      ],
      "text/plain": [
       "<IPython.core.display.Image object>"
      ]
     },
     "metadata": {},
     "output_type": "display_data"
    },
    {
     "data": {
      "text/html": [
       "<img src=\"http://latex.codecogs.com/png.latex?\\dpi{150}\\color{white} \\begin{array}{c|c|cccccc|c} \n",
       " & -W & x_{1} & x_{2} & x_{3} & x_{4} & x_{a} & x_{b} & b \\\\ \n",
       "\\hline\n",
       " q & 1 & 0 & 0 & 0 & 0 & 1 & 1 & 0 \\\\ \n",
       "0 \\slash -7 & 0 & \\frac{-7}{10} & 0 & \\frac{-2}{5} & 1 & \\frac{1}{10} & \\frac{-3}{20} & 0 \\\\ \n",
       "20 \\slash 18 & 0 & \\frac{9}{20} & 1 & \\frac{2}{5} & 0 & \\frac{3}{20} & \\frac{1}{40} & \\frac{1}{2} \\\\ \n",
       "\\end{array}\"/>"
      ],
      "text/plain": [
       "<IPython.core.display.Image object>"
      ]
     },
     "execution_count": 588,
     "metadata": {},
     "output_type": "execute_result"
    }
   ],
   "source": [
    "makePivot(m, 2, 1, z, '-W', varSubs)\n",
    "printTable(m, z, '-W', varSubs)"
   ]
  },
  {
   "cell_type": "code",
   "execution_count": 589,
   "metadata": {},
   "outputs": [
    {
     "data": {
      "text/html": [
       "<img src=\"http://latex.codecogs.com/png.latex?\\dpi{150}\\color{white} L_{2} \\rightarrow \\frac{20}{9}L_{2}\"/>"
      ],
      "text/plain": [
       "<IPython.core.display.Image object>"
      ]
     },
     "metadata": {},
     "output_type": "display_data"
    },
    {
     "data": {
      "text/html": [
       "<img src=\"http://latex.codecogs.com/png.latex?\\dpi{150}\\color{white} \\begin{array}{c|c|cccccc|c} \n",
       " & -W & x_{1} & x_{2} & x_{3} & x_{4} & x_{a} & x_{b} & b \\\\ \n",
       "\\hline\n",
       " q & 1 & 0 & 0 & 0 & 0 & 1 & 1 & 0 \\\\ \n",
       "0 \\slash -7 & 0 & \\frac{-7}{10} & 0 & \\frac{-2}{5} & 1 & \\frac{1}{10} & \\frac{-3}{20} & 0 \\\\ \n",
       "10 \\slash 9 & 0 & 1 & \\frac{20}{9} & \\frac{8}{9} & 0 & \\frac{1}{3} & \\frac{1}{18} & \\frac{10}{9} \\\\ \n",
       "\\end{array}\"/>"
      ],
      "text/plain": [
       "<IPython.core.display.Image object>"
      ]
     },
     "metadata": {},
     "output_type": "display_data"
    },
    {
     "data": {
      "text/html": [
       "<img src=\"http://latex.codecogs.com/png.latex?\\dpi{150}\\color{white} L_{0} \\rightarrow L_{0}\"/>"
      ],
      "text/plain": [
       "<IPython.core.display.Image object>"
      ]
     },
     "metadata": {},
     "output_type": "display_data"
    },
    {
     "data": {
      "text/html": [
       "<img src=\"http://latex.codecogs.com/png.latex?\\dpi{150}\\color{white} L_{1} \\rightarrow L_{1}+\\frac{7}{10}L_{2}\"/>"
      ],
      "text/plain": [
       "<IPython.core.display.Image object>"
      ]
     },
     "metadata": {},
     "output_type": "display_data"
    },
    {
     "data": {
      "text/html": [
       "<img src=\"http://latex.codecogs.com/png.latex?\\dpi{150}\\color{white} L_{2} \\rightarrow \\frac{9}{8}L_{2}\"/>"
      ],
      "text/plain": [
       "<IPython.core.display.Image object>"
      ]
     },
     "metadata": {},
     "output_type": "display_data"
    },
    {
     "data": {
      "text/html": [
       "<img src=\"http://latex.codecogs.com/png.latex?\\dpi{150}\\color{white} \\begin{array}{c|c|cccccc|c} \n",
       " & -W & x_{1} & x_{2} & x_{3} & x_{4} & x_{a} & x_{b} & b \\\\ \n",
       "\\hline\n",
       " q & 1 & 0 & 0 & 0 & 0 & 1 & 1 & 0 \\\\ \n",
       "7 \\slash 0 & 0 & 0 & \\frac{14}{9} & \\frac{2}{9} & 1 & \\frac{1}{3} & \\frac{-1}{9} & \\frac{7}{9} \\\\ \n",
       "40 \\slash 36 & 0 & \\frac{9}{8} & \\frac{5}{2} & 1 & 0 & \\frac{3}{8} & \\frac{1}{16} & \\frac{5}{4} \\\\ \n",
       "\\end{array}\"/>"
      ],
      "text/plain": [
       "<IPython.core.display.Image object>"
      ]
     },
     "metadata": {},
     "output_type": "display_data"
    },
    {
     "data": {
      "text/html": [
       "<img src=\"http://latex.codecogs.com/png.latex?\\dpi{150}\\color{white} L_{0} \\rightarrow L_{0}\"/>"
      ],
      "text/plain": [
       "<IPython.core.display.Image object>"
      ]
     },
     "metadata": {},
     "output_type": "display_data"
    },
    {
     "data": {
      "text/html": [
       "<img src=\"http://latex.codecogs.com/png.latex?\\dpi{150}\\color{white} L_{1} \\rightarrow L_{1}-\\frac{2}{9}L_{2}\"/>"
      ],
      "text/plain": [
       "<IPython.core.display.Image object>"
      ]
     },
     "metadata": {},
     "output_type": "display_data"
    },
    {
     "data": {
      "text/html": [
       "<img src=\"http://latex.codecogs.com/png.latex?\\dpi{150}\\color{white} \\begin{array}{c|c|cccccc|c} \n",
       " & -W & x_{1} & x_{2} & x_{3} & x_{4} & x_{a} & x_{b} & b \\\\ \n",
       "\\hline\n",
       " q & 1 & 0 & 0 & 0 & 0 & 1 & 1 & 0 \\\\ \n",
       "4 \\slash -2 & 0 & \\frac{-1}{4} & 1 & 0 & 1 & \\frac{1}{4} & \\frac{-1}{8} & \\frac{1}{2} \\\\ \n",
       "40 \\slash 36 & 0 & \\frac{9}{8} & \\frac{5}{2} & 1 & 0 & \\frac{3}{8} & \\frac{1}{16} & \\frac{5}{4} \\\\ \n",
       "\\end{array}\"/>"
      ],
      "text/plain": [
       "<IPython.core.display.Image object>"
      ]
     },
     "execution_count": 589,
     "metadata": {},
     "output_type": "execute_result"
    }
   ],
   "source": [
    "makePivot(m, 2, 0, z, '-W', varSubs)\n",
    "makePivot(m, 2, 2, z, '-W', varSubs)\n",
    "printTable(m, z, '-W', varSubs)"
   ]
  },
  {
   "cell_type": "code",
   "execution_count": 590,
   "metadata": {},
   "outputs": [
    {
     "data": {
      "text/html": [
       "<img src=\"http://latex.codecogs.com/png.latex?\\dpi{150}\\color{white} L_{2} \\rightarrow \\frac{2}{5}L_{2}\"/>"
      ],
      "text/plain": [
       "<IPython.core.display.Image object>"
      ]
     },
     "metadata": {},
     "output_type": "display_data"
    },
    {
     "data": {
      "text/html": [
       "<img src=\"http://latex.codecogs.com/png.latex?\\dpi{150}\\color{white} \\begin{array}{c|c|cccccc|c} \n",
       " & -W & x_{1} & x_{2} & x_{3} & x_{4} & x_{a} & x_{b} & b \\\\ \n",
       "\\hline\n",
       " q & 1 & 0 & 0 & 0 & 0 & 1 & 1 & 0 \\\\ \n",
       "4 \\slash -2 & 0 & \\frac{-1}{4} & 1 & 0 & 1 & \\frac{1}{4} & \\frac{-1}{8} & \\frac{1}{2} \\\\ \n",
       "20 \\slash 18 & 0 & \\frac{9}{20} & 1 & \\frac{2}{5} & 0 & \\frac{3}{20} & \\frac{1}{40} & \\frac{1}{2} \\\\ \n",
       "\\end{array}\"/>"
      ],
      "text/plain": [
       "<IPython.core.display.Image object>"
      ]
     },
     "metadata": {},
     "output_type": "display_data"
    },
    {
     "data": {
      "text/html": [
       "<img src=\"http://latex.codecogs.com/png.latex?\\dpi{150}\\color{white} L_{0} \\rightarrow L_{0}\"/>"
      ],
      "text/plain": [
       "<IPython.core.display.Image object>"
      ]
     },
     "metadata": {},
     "output_type": "display_data"
    },
    {
     "data": {
      "text/html": [
       "<img src=\"http://latex.codecogs.com/png.latex?\\dpi{150}\\color{white} L_{1} \\rightarrow L_{1}-L_{2}\"/>"
      ],
      "text/plain": [
       "<IPython.core.display.Image object>"
      ]
     },
     "metadata": {},
     "output_type": "display_data"
    },
    {
     "data": {
      "text/html": [
       "<img src=\"http://latex.codecogs.com/png.latex?\\dpi{150}\\color{white} \\begin{array}{c|c|cccccc|c} \n",
       " & -W & x_{1} & x_{2} & x_{3} & x_{4} & x_{a} & x_{b} & b \\\\ \n",
       "\\hline\n",
       " q & 1 & 0 & 0 & 0 & 0 & 1 & 1 & 0 \\\\ \n",
       "0 \\slash -7 & 0 & \\frac{-7}{10} & 0 & \\frac{-2}{5} & 1 & \\frac{1}{10} & \\frac{-3}{20} & 0 \\\\ \n",
       "20 \\slash 18 & 0 & \\frac{9}{20} & 1 & \\frac{2}{5} & 0 & \\frac{3}{20} & \\frac{1}{40} & \\frac{1}{2} \\\\ \n",
       "\\end{array}\"/>"
      ],
      "text/plain": [
       "<IPython.core.display.Image object>"
      ]
     },
     "execution_count": 590,
     "metadata": {},
     "output_type": "execute_result"
    }
   ],
   "source": [
    "makePivot(m, 2, 1, z, '-W', varSubs)\n",
    "printTable(m, z, '-W', varSubs)"
   ]
  }
 ],
 "metadata": {
  "kernelspec": {
   "display_name": "venv",
   "language": "python",
   "name": "python3"
  },
  "language_info": {
   "codemirror_mode": {
    "name": "ipython",
    "version": 3
   },
   "file_extension": ".py",
   "mimetype": "text/x-python",
   "name": "python",
   "nbconvert_exporter": "python",
   "pygments_lexer": "ipython3",
   "version": "3.12.3"
  },
  "orig_nbformat": 4
 },
 "nbformat": 4,
 "nbformat_minor": 2
}
