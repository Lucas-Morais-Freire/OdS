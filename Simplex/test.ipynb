{
 "cells": [
  {
   "cell_type": "code",
   "execution_count": 1,
   "metadata": {},
   "outputs": [
    {
     "name": "stderr",
     "output_type": "stream",
     "text": [
      "/root/github/OdS/Simplex/simplex.py:142: SyntaxWarning: invalid escape sequence '\\ '\n",
      "  expr += ' & b \\\\\\ \\n\\hline\\n q & 1'\n",
      "/root/github/OdS/Simplex/simplex.py:145: SyntaxWarning: invalid escape sequence '\\ '\n",
      "  expr += ' \\\\\\ \\n'\n",
      "/root/github/OdS/Simplex/simplex.py:153: SyntaxWarning: invalid escape sequence '\\ '\n",
      "  expr += ' \\\\\\ \\n'\n"
     ]
    }
   ],
   "source": [
    "from simplex import *"
   ]
  },
  {
   "cell_type": "markdown",
   "metadata": {},
   "source": [
    "Primeira parte: achar lucro máximo"
   ]
  },
  {
   "cell_type": "code",
   "execution_count": 2,
   "metadata": {},
   "outputs": [
    {
     "data": {
      "text/html": [
       "<img src=\"http://latex.codecogs.com/png.latex?\\dpi{150}\\color{black} \\begin{array}{c|c|cccccccccc|c} \n",
       " & Z & x_{I} & x_{II} & x_{III} & x_{4} & x_{5} & x_{6} & x_{7} & x_{8} & x_{9} & x_{10} & b \\\\ \n",
       "\\hline\n",
       " q & 1 & -10 & -15 & -20 & 0 & 0 & 0 & 0 & 0 & 0 & 0 & 0 \\\\ \n",
       "100 \\slash 1 & 0 & 2 & 3 & 1 & 1 & 0 & 0 & 0 & 0 & 0 & 0 & 100 \\\\ \n",
       "120 \\slash 2 & 0 & 1 & 1 & 2 & 0 & 1 & 0 & 0 & 0 & 0 & 0 & 120 \\\\ \n",
       "176 \\slash 3 & 0 & 2 & 2 & 3 & 0 & 0 & 1 & 0 & 0 & 0 & 0 & 176 \\\\ \n",
       "132 \\slash 1 & 0 & 1 & 2 & 1 & 0 & 0 & 0 & 1 & 0 & 0 & 0 & 132 \\\\ \n",
       "80 \\slash 0 & 0 & 1 & 0 & 0 & 0 & 0 & 0 & 0 & 1 & 0 & 0 & 80 \\\\ \n",
       "20 \\slash 0 & 0 & 0 & 1 & 0 & 0 & 0 & 0 & 0 & 0 & 1 & 0 & 20 \\\\ \n",
       "40 \\slash 1 & 0 & 0 & 0 & 1 & 0 & 0 & 0 & 0 & 0 & 0 & 1 & 40 \\\\ \n",
       "\\end{array}\"/>"
      ],
      "text/plain": [
       "<IPython.core.display.Image object>"
      ]
     },
     "execution_count": 2,
     "metadata": {},
     "output_type": "execute_result"
    }
   ],
   "source": [
    "z = [[-10,-15,-20],[True for _ in range(3)]]\n",
    "varSubs=[\"I\",\"II\",\"III\"]\n",
    "r = [[2,3,1,\"<=\",100],\n",
    "     [1,1,2,\"<=\",120],\n",
    "     [2,2,3,\"<=\",176],\n",
    "     [1,2,1,\"<=\",132],\n",
    "     [1,0,0,\"<=\",80],\n",
    "     [0,1,0,\"<=\",20],\n",
    "     [0,0,1,\"<=\",40]]\n",
    "\n",
    "m = makeMatrix(z, r, True)\n",
    "printTable(m, z, 'Z', varSubs)"
   ]
  },
  {
   "cell_type": "code",
   "execution_count": 3,
   "metadata": {},
   "outputs": [
    {
     "data": {
      "text/html": [
       "<img src=\"http://latex.codecogs.com/png.latex?\\dpi{150}\\color{black} L_{7} \\rightarrow L_{7}\"/>"
      ],
      "text/plain": [
       "<IPython.core.display.Image object>"
      ]
     },
     "metadata": {},
     "output_type": "display_data"
    },
    {
     "data": {
      "text/html": [
       "<img src=\"http://latex.codecogs.com/png.latex?\\dpi{150}\\color{black} \\begin{array}{c|c|cccccccccc|c} \n",
       " & Z & x_{I} & x_{II} & x_{III} & x_{4} & x_{5} & x_{6} & x_{7} & x_{8} & x_{9} & x_{10} & b \\\\ \n",
       "\\hline\n",
       " q & 1 & -10 & -15 & -20 & 0 & 0 & 0 & 0 & 0 & 0 & 0 & 0 \\\\ \n",
       "100 \\slash 1 & 0 & 2 & 3 & 1 & 1 & 0 & 0 & 0 & 0 & 0 & 0 & 100 \\\\ \n",
       "120 \\slash 2 & 0 & 1 & 1 & 2 & 0 & 1 & 0 & 0 & 0 & 0 & 0 & 120 \\\\ \n",
       "176 \\slash 3 & 0 & 2 & 2 & 3 & 0 & 0 & 1 & 0 & 0 & 0 & 0 & 176 \\\\ \n",
       "132 \\slash 1 & 0 & 1 & 2 & 1 & 0 & 0 & 0 & 1 & 0 & 0 & 0 & 132 \\\\ \n",
       "80 \\slash 0 & 0 & 1 & 0 & 0 & 0 & 0 & 0 & 0 & 1 & 0 & 0 & 80 \\\\ \n",
       "20 \\slash 0 & 0 & 0 & 1 & 0 & 0 & 0 & 0 & 0 & 0 & 1 & 0 & 20 \\\\ \n",
       "40 \\slash 1 & 0 & 0 & 0 & 1 & 0 & 0 & 0 & 0 & 0 & 0 & 1 & 40 \\\\ \n",
       "\\end{array}\"/>"
      ],
      "text/plain": [
       "<IPython.core.display.Image object>"
      ]
     },
     "metadata": {},
     "output_type": "display_data"
    },
    {
     "data": {
      "text/html": [
       "<img src=\"http://latex.codecogs.com/png.latex?\\dpi{150}\\color{black} L_{0} \\rightarrow L_{0}+20L_{7}\"/>"
      ],
      "text/plain": [
       "<IPython.core.display.Image object>"
      ]
     },
     "metadata": {},
     "output_type": "display_data"
    },
    {
     "data": {
      "text/html": [
       "<img src=\"http://latex.codecogs.com/png.latex?\\dpi{150}\\color{black} L_{1} \\rightarrow L_{1}-L_{7}\"/>"
      ],
      "text/plain": [
       "<IPython.core.display.Image object>"
      ]
     },
     "metadata": {},
     "output_type": "display_data"
    },
    {
     "data": {
      "text/html": [
       "<img src=\"http://latex.codecogs.com/png.latex?\\dpi{150}\\color{black} L_{2} \\rightarrow L_{2}-2L_{7}\"/>"
      ],
      "text/plain": [
       "<IPython.core.display.Image object>"
      ]
     },
     "metadata": {},
     "output_type": "display_data"
    },
    {
     "data": {
      "text/html": [
       "<img src=\"http://latex.codecogs.com/png.latex?\\dpi{150}\\color{black} L_{3} \\rightarrow L_{3}-3L_{7}\"/>"
      ],
      "text/plain": [
       "<IPython.core.display.Image object>"
      ]
     },
     "metadata": {},
     "output_type": "display_data"
    },
    {
     "data": {
      "text/html": [
       "<img src=\"http://latex.codecogs.com/png.latex?\\dpi{150}\\color{black} L_{4} \\rightarrow L_{4}-L_{7}\"/>"
      ],
      "text/plain": [
       "<IPython.core.display.Image object>"
      ]
     },
     "metadata": {},
     "output_type": "display_data"
    },
    {
     "data": {
      "text/html": [
       "<img src=\"http://latex.codecogs.com/png.latex?\\dpi{150}\\color{black} L_{5} \\rightarrow L_{5}\"/>"
      ],
      "text/plain": [
       "<IPython.core.display.Image object>"
      ]
     },
     "metadata": {},
     "output_type": "display_data"
    },
    {
     "data": {
      "text/html": [
       "<img src=\"http://latex.codecogs.com/png.latex?\\dpi{150}\\color{black} L_{6} \\rightarrow L_{6}\"/>"
      ],
      "text/plain": [
       "<IPython.core.display.Image object>"
      ]
     },
     "metadata": {},
     "output_type": "display_data"
    },
    {
     "data": {
      "text/html": [
       "<img src=\"http://latex.codecogs.com/png.latex?\\dpi{150}\\color{black} \\begin{array}{c|c|cccccccccc|c} \n",
       " & Z & x_{I} & x_{II} & x_{III} & x_{4} & x_{5} & x_{6} & x_{7} & x_{8} & x_{9} & x_{10} & b \\\\ \n",
       "\\hline\n",
       " q & 1 & -10 & -15 & 0 & 0 & 0 & 0 & 0 & 0 & 0 & 20 & 800 \\\\ \n",
       "60 \\slash 3 & 0 & 2 & 3 & 0 & 1 & 0 & 0 & 0 & 0 & 0 & -1 & 60 \\\\ \n",
       "40 \\slash 1 & 0 & 1 & 1 & 0 & 0 & 1 & 0 & 0 & 0 & 0 & -2 & 40 \\\\ \n",
       "56 \\slash 2 & 0 & 2 & 2 & 0 & 0 & 0 & 1 & 0 & 0 & 0 & -3 & 56 \\\\ \n",
       "92 \\slash 2 & 0 & 1 & 2 & 0 & 0 & 0 & 0 & 1 & 0 & 0 & -1 & 92 \\\\ \n",
       "80 \\slash 0 & 0 & 1 & 0 & 0 & 0 & 0 & 0 & 0 & 1 & 0 & 0 & 80 \\\\ \n",
       "20 \\slash 1 & 0 & 0 & 1 & 0 & 0 & 0 & 0 & 0 & 0 & 1 & 0 & 20 \\\\ \n",
       "40 \\slash 0 & 0 & 0 & 0 & 1 & 0 & 0 & 0 & 0 & 0 & 0 & 1 & 40 \\\\ \n",
       "\\end{array}\"/>"
      ],
      "text/plain": [
       "<IPython.core.display.Image object>"
      ]
     },
     "execution_count": 3,
     "metadata": {},
     "output_type": "execute_result"
    }
   ],
   "source": [
    "makePivot(m, 7, 2, z, 'Z', varSubs)\n",
    "printTable(m, z, 'Z', varSubs)"
   ]
  },
  {
   "cell_type": "markdown",
   "metadata": {},
   "source": [
    "Houve empate nas razões mínimas, escolher $x_4$ para ser retirada por ter menor ordem"
   ]
  },
  {
   "cell_type": "code",
   "execution_count": 4,
   "metadata": {},
   "outputs": [
    {
     "data": {
      "text/html": [
       "<img src=\"http://latex.codecogs.com/png.latex?\\dpi{150}\\color{black} L_{1} \\rightarrow \\frac{1}{3}L_{1}\"/>"
      ],
      "text/plain": [
       "<IPython.core.display.Image object>"
      ]
     },
     "metadata": {},
     "output_type": "display_data"
    },
    {
     "data": {
      "text/html": [
       "<img src=\"http://latex.codecogs.com/png.latex?\\dpi{150}\\color{black} \\begin{array}{c|c|cccccccccc|c} \n",
       " & Z & x_{I} & x_{II} & x_{III} & x_{4} & x_{5} & x_{6} & x_{7} & x_{8} & x_{9} & x_{10} & b \\\\ \n",
       "\\hline\n",
       " q & 1 & -10 & -15 & 0 & 0 & 0 & 0 & 0 & 0 & 0 & 20 & 800 \\\\ \n",
       "20 \\slash 1 & 0 & \\frac{2}{3} & 1 & 0 & \\frac{1}{3} & 0 & 0 & 0 & 0 & 0 & \\frac{-1}{3} & 20 \\\\ \n",
       "40 \\slash 1 & 0 & 1 & 1 & 0 & 0 & 1 & 0 & 0 & 0 & 0 & -2 & 40 \\\\ \n",
       "56 \\slash 2 & 0 & 2 & 2 & 0 & 0 & 0 & 1 & 0 & 0 & 0 & -3 & 56 \\\\ \n",
       "92 \\slash 2 & 0 & 1 & 2 & 0 & 0 & 0 & 0 & 1 & 0 & 0 & -1 & 92 \\\\ \n",
       "80 \\slash 0 & 0 & 1 & 0 & 0 & 0 & 0 & 0 & 0 & 1 & 0 & 0 & 80 \\\\ \n",
       "20 \\slash 1 & 0 & 0 & 1 & 0 & 0 & 0 & 0 & 0 & 0 & 1 & 0 & 20 \\\\ \n",
       "40 \\slash 0 & 0 & 0 & 0 & 1 & 0 & 0 & 0 & 0 & 0 & 0 & 1 & 40 \\\\ \n",
       "\\end{array}\"/>"
      ],
      "text/plain": [
       "<IPython.core.display.Image object>"
      ]
     },
     "metadata": {},
     "output_type": "display_data"
    },
    {
     "data": {
      "text/html": [
       "<img src=\"http://latex.codecogs.com/png.latex?\\dpi{150}\\color{black} L_{0} \\rightarrow L_{0}+15L_{1}\"/>"
      ],
      "text/plain": [
       "<IPython.core.display.Image object>"
      ]
     },
     "metadata": {},
     "output_type": "display_data"
    },
    {
     "data": {
      "text/html": [
       "<img src=\"http://latex.codecogs.com/png.latex?\\dpi{150}\\color{black} L_{2} \\rightarrow L_{2}-L_{1}\"/>"
      ],
      "text/plain": [
       "<IPython.core.display.Image object>"
      ]
     },
     "metadata": {},
     "output_type": "display_data"
    },
    {
     "data": {
      "text/html": [
       "<img src=\"http://latex.codecogs.com/png.latex?\\dpi{150}\\color{black} L_{3} \\rightarrow L_{3}-2L_{1}\"/>"
      ],
      "text/plain": [
       "<IPython.core.display.Image object>"
      ]
     },
     "metadata": {},
     "output_type": "display_data"
    },
    {
     "data": {
      "text/html": [
       "<img src=\"http://latex.codecogs.com/png.latex?\\dpi{150}\\color{black} L_{4} \\rightarrow L_{4}-2L_{1}\"/>"
      ],
      "text/plain": [
       "<IPython.core.display.Image object>"
      ]
     },
     "metadata": {},
     "output_type": "display_data"
    },
    {
     "data": {
      "text/html": [
       "<img src=\"http://latex.codecogs.com/png.latex?\\dpi{150}\\color{black} L_{5} \\rightarrow L_{5}\"/>"
      ],
      "text/plain": [
       "<IPython.core.display.Image object>"
      ]
     },
     "metadata": {},
     "output_type": "display_data"
    },
    {
     "data": {
      "text/html": [
       "<img src=\"http://latex.codecogs.com/png.latex?\\dpi{150}\\color{black} L_{6} \\rightarrow L_{6}-L_{1}\"/>"
      ],
      "text/plain": [
       "<IPython.core.display.Image object>"
      ]
     },
     "metadata": {},
     "output_type": "display_data"
    },
    {
     "data": {
      "text/html": [
       "<img src=\"http://latex.codecogs.com/png.latex?\\dpi{150}\\color{black} L_{7} \\rightarrow L_{7}\"/>"
      ],
      "text/plain": [
       "<IPython.core.display.Image object>"
      ]
     },
     "metadata": {},
     "output_type": "display_data"
    },
    {
     "data": {
      "text/html": [
       "<img src=\"http://latex.codecogs.com/png.latex?\\dpi{150}\\color{black} \\begin{array}{c|c|cccccccccc|c} \n",
       " & Z & x_{I} & x_{II} & x_{III} & x_{4} & x_{5} & x_{6} & x_{7} & x_{8} & x_{9} & x_{10} & b \\\\ \n",
       "\\hline\n",
       " q & 1 & 0 & 0 & 0 & 5 & 0 & 0 & 0 & 0 & 0 & 15 & 1100 \\\\ \n",
       "60 \\slash 2 & 0 & \\frac{2}{3} & 1 & 0 & \\frac{1}{3} & 0 & 0 & 0 & 0 & 0 & \\frac{-1}{3} & 20 \\\\ \n",
       "60 \\slash 1 & 0 & \\frac{1}{3} & 0 & 0 & \\frac{-1}{3} & 1 & 0 & 0 & 0 & 0 & \\frac{-5}{3} & 20 \\\\ \n",
       "48 \\slash 2 & 0 & \\frac{2}{3} & 0 & 0 & \\frac{-2}{3} & 0 & 1 & 0 & 0 & 0 & \\frac{-7}{3} & 16 \\\\ \n",
       "156 \\slash -1 & 0 & \\frac{-1}{3} & 0 & 0 & \\frac{-2}{3} & 0 & 0 & 1 & 0 & 0 & \\frac{-1}{3} & 52 \\\\ \n",
       "80 \\slash 1 & 0 & 1 & 0 & 0 & 0 & 0 & 0 & 0 & 1 & 0 & 0 & 80 \\\\ \n",
       "0 \\slash -2 & 0 & \\frac{-2}{3} & 0 & 0 & \\frac{-1}{3} & 0 & 0 & 0 & 0 & 1 & \\frac{1}{3} & 0 \\\\ \n",
       "40 \\slash 0 & 0 & 0 & 0 & 1 & 0 & 0 & 0 & 0 & 0 & 0 & 1 & 40 \\\\ \n",
       "\\end{array}\"/>"
      ],
      "text/plain": [
       "<IPython.core.display.Image object>"
      ]
     },
     "execution_count": 4,
     "metadata": {},
     "output_type": "execute_result"
    }
   ],
   "source": [
    "makePivot(m, 1, 1, z, 'Z', varSubs)\n",
    "printTable(m, z, 'Z', varSubs)"
   ]
  },
  {
   "cell_type": "markdown",
   "metadata": {},
   "source": [
    "Solção ótima obtida, é possível encontrar outra solução colocando $x_1$ na base, como o professor pede. $x_1$ é não-básica, e possui coeficiente nulo na linha 0 (func. obj.)"
   ]
  },
  {
   "cell_type": "code",
   "execution_count": 5,
   "metadata": {},
   "outputs": [
    {
     "data": {
      "text/html": [
       "<img src=\"http://latex.codecogs.com/png.latex?\\dpi{150}\\color{black} L_{3} \\rightarrow \\frac{3}{2}L_{3}\"/>"
      ],
      "text/plain": [
       "<IPython.core.display.Image object>"
      ]
     },
     "metadata": {},
     "output_type": "display_data"
    },
    {
     "data": {
      "text/html": [
       "<img src=\"http://latex.codecogs.com/png.latex?\\dpi{150}\\color{black} \\begin{array}{c|c|cccccccccc|c} \n",
       " & Z & x_{I} & x_{II} & x_{III} & x_{4} & x_{5} & x_{6} & x_{7} & x_{8} & x_{9} & x_{10} & b \\\\ \n",
       "\\hline\n",
       " q & 1 & 0 & 0 & 0 & 5 & 0 & 0 & 0 & 0 & 0 & 15 & 1100 \\\\ \n",
       "60 \\slash 2 & 0 & \\frac{2}{3} & 1 & 0 & \\frac{1}{3} & 0 & 0 & 0 & 0 & 0 & \\frac{-1}{3} & 20 \\\\ \n",
       "60 \\slash 1 & 0 & \\frac{1}{3} & 0 & 0 & \\frac{-1}{3} & 1 & 0 & 0 & 0 & 0 & \\frac{-5}{3} & 20 \\\\ \n",
       "24 \\slash 1 & 0 & 1 & 0 & 0 & -1 & 0 & \\frac{3}{2} & 0 & 0 & 0 & \\frac{-7}{2} & 24 \\\\ \n",
       "156 \\slash -1 & 0 & \\frac{-1}{3} & 0 & 0 & \\frac{-2}{3} & 0 & 0 & 1 & 0 & 0 & \\frac{-1}{3} & 52 \\\\ \n",
       "80 \\slash 1 & 0 & 1 & 0 & 0 & 0 & 0 & 0 & 0 & 1 & 0 & 0 & 80 \\\\ \n",
       "0 \\slash -2 & 0 & \\frac{-2}{3} & 0 & 0 & \\frac{-1}{3} & 0 & 0 & 0 & 0 & 1 & \\frac{1}{3} & 0 \\\\ \n",
       "40 \\slash 0 & 0 & 0 & 0 & 1 & 0 & 0 & 0 & 0 & 0 & 0 & 1 & 40 \\\\ \n",
       "\\end{array}\"/>"
      ],
      "text/plain": [
       "<IPython.core.display.Image object>"
      ]
     },
     "metadata": {},
     "output_type": "display_data"
    },
    {
     "data": {
      "text/html": [
       "<img src=\"http://latex.codecogs.com/png.latex?\\dpi{150}\\color{black} L_{0} \\rightarrow L_{0}\"/>"
      ],
      "text/plain": [
       "<IPython.core.display.Image object>"
      ]
     },
     "metadata": {},
     "output_type": "display_data"
    },
    {
     "data": {
      "text/html": [
       "<img src=\"http://latex.codecogs.com/png.latex?\\dpi{150}\\color{black} L_{1} \\rightarrow L_{1}-\\frac{2}{3}L_{3}\"/>"
      ],
      "text/plain": [
       "<IPython.core.display.Image object>"
      ]
     },
     "metadata": {},
     "output_type": "display_data"
    },
    {
     "data": {
      "text/html": [
       "<img src=\"http://latex.codecogs.com/png.latex?\\dpi{150}\\color{black} L_{2} \\rightarrow L_{2}-\\frac{1}{3}L_{3}\"/>"
      ],
      "text/plain": [
       "<IPython.core.display.Image object>"
      ]
     },
     "metadata": {},
     "output_type": "display_data"
    },
    {
     "data": {
      "text/html": [
       "<img src=\"http://latex.codecogs.com/png.latex?\\dpi{150}\\color{black} L_{4} \\rightarrow L_{4}+\\frac{1}{3}L_{3}\"/>"
      ],
      "text/plain": [
       "<IPython.core.display.Image object>"
      ]
     },
     "metadata": {},
     "output_type": "display_data"
    },
    {
     "data": {
      "text/html": [
       "<img src=\"http://latex.codecogs.com/png.latex?\\dpi{150}\\color{black} L_{5} \\rightarrow L_{5}-L_{3}\"/>"
      ],
      "text/plain": [
       "<IPython.core.display.Image object>"
      ]
     },
     "metadata": {},
     "output_type": "display_data"
    },
    {
     "data": {
      "text/html": [
       "<img src=\"http://latex.codecogs.com/png.latex?\\dpi{150}\\color{black} L_{6} \\rightarrow L_{6}+\\frac{2}{3}L_{3}\"/>"
      ],
      "text/plain": [
       "<IPython.core.display.Image object>"
      ]
     },
     "metadata": {},
     "output_type": "display_data"
    },
    {
     "data": {
      "text/html": [
       "<img src=\"http://latex.codecogs.com/png.latex?\\dpi{150}\\color{black} L_{7} \\rightarrow L_{7}\"/>"
      ],
      "text/plain": [
       "<IPython.core.display.Image object>"
      ]
     },
     "metadata": {},
     "output_type": "display_data"
    },
    {
     "data": {
      "text/html": [
       "<img src=\"http://latex.codecogs.com/png.latex?\\dpi{150}\\color{black} \\begin{array}{c|c|cccccccccc|c} \n",
       " & Z & x_{I} & x_{II} & x_{III} & x_{4} & x_{5} & x_{6} & x_{7} & x_{8} & x_{9} & x_{10} & b \\\\ \n",
       "\\hline\n",
       " q & 1 & 0 & 0 & 0 & 5 & 0 & 0 & 0 & 0 & 0 & 15 & 1100 \\\\ \n",
       "4 \\slash 0 & 0 & 0 & 1 & 0 & 1 & 0 & -1 & 0 & 0 & 0 & 2 & 4 \\\\ \n",
       "12 \\slash 0 & 0 & 0 & 0 & 0 & 0 & 1 & \\frac{-1}{2} & 0 & 0 & 0 & \\frac{-1}{2} & 12 \\\\ \n",
       "24 \\slash 1 & 0 & 1 & 0 & 0 & -1 & 0 & \\frac{3}{2} & 0 & 0 & 0 & \\frac{-7}{2} & 24 \\\\ \n",
       "60 \\slash 0 & 0 & 0 & 0 & 0 & -1 & 0 & \\frac{1}{2} & 1 & 0 & 0 & \\frac{-3}{2} & 60 \\\\ \n",
       "56 \\slash 0 & 0 & 0 & 0 & 0 & 1 & 0 & \\frac{-3}{2} & 0 & 1 & 0 & \\frac{7}{2} & 56 \\\\ \n",
       "16 \\slash 0 & 0 & 0 & 0 & 0 & -1 & 0 & 1 & 0 & 0 & 1 & -2 & 16 \\\\ \n",
       "40 \\slash 0 & 0 & 0 & 0 & 1 & 0 & 0 & 0 & 0 & 0 & 0 & 1 & 40 \\\\ \n",
       "\\end{array}\"/>"
      ],
      "text/plain": [
       "<IPython.core.display.Image object>"
      ]
     },
     "execution_count": 5,
     "metadata": {},
     "output_type": "execute_result"
    }
   ],
   "source": [
    "makePivot(m, 3, 0, z, 'Z', varSubs)\n",
    "printTable(m, z, 'Z', varSubs)"
   ]
  },
  {
   "cell_type": "markdown",
   "metadata": {},
   "source": [
    "$Z = 1100$\n",
    "\n",
    "$\n",
    "\\begin{cases}\n",
    "x_I = 24 \\\\\n",
    "x_{II} = 4 \\\\\n",
    "x_{III} = 40 \\\\\n",
    "x_4 = x_6 = x_{10} = 0 \\\\\n",
    "x_5 = 12 \\\\\n",
    "x_7 = 60 \\\\\n",
    "x_8 = 56 \\\\\n",
    "x_9 = 16\n",
    "\\end{cases}\n",
    "$"
   ]
  },
  {
   "cell_type": "markdown",
   "metadata": {},
   "source": [
    "Agora, determinar uma nova solução para maximizar a quantidade de produtos, mantendo o lucro em 1100"
   ]
  },
  {
   "cell_type": "markdown",
   "metadata": {},
   "source": [
    "$\\max Z = x_I + x_{II} + x_{III}$"
   ]
  },
  {
   "cell_type": "markdown",
   "metadata": {},
   "source": [
    "Para encontrar uma solução básica compatível, adiciona-se uma variável artificial, cujo valor deve ser minimizado"
   ]
  },
  {
   "cell_type": "markdown",
   "metadata": {},
   "source": [
    "$\\min W = x_{a1} \\longleftrightarrow \\max Y = -x_{a1}$"
   ]
  },
  {
   "cell_type": "code",
   "execution_count": 6,
   "metadata": {},
   "outputs": [
    {
     "data": {
      "text/html": [
       "<img src=\"http://latex.codecogs.com/png.latex?\\dpi{150}\\color{black} \\begin{array}{c|c|ccccccccccc|c} \n",
       " & Y & x_{I} & x_{II} & x_{III} & x_{a1} & x_{5} & x_{6} & x_{7} & x_{8} & x_{9} & x_{10} & x_{11} & b \\\\ \n",
       "\\hline\n",
       " q & 1 & 0 & 0 & 0 & 1 & 0 & 0 & 0 & 0 & 0 & 0 & 0 & 0 \\\\ \n",
       "100 \\slash 2 & 0 & 2 & 3 & 1 & 0 & 1 & 0 & 0 & 0 & 0 & 0 & 0 & 100 \\\\ \n",
       "120 \\slash 1 & 0 & 1 & 1 & 2 & 0 & 0 & 1 & 0 & 0 & 0 & 0 & 0 & 120 \\\\ \n",
       "176 \\slash 2 & 0 & 2 & 2 & 3 & 0 & 0 & 0 & 1 & 0 & 0 & 0 & 0 & 176 \\\\ \n",
       "132 \\slash 1 & 0 & 1 & 2 & 1 & 0 & 0 & 0 & 0 & 1 & 0 & 0 & 0 & 132 \\\\ \n",
       "80 \\slash 1 & 0 & 1 & 0 & 0 & 0 & 0 & 0 & 0 & 0 & 1 & 0 & 0 & 80 \\\\ \n",
       "20 \\slash 0 & 0 & 0 & 1 & 0 & 0 & 0 & 0 & 0 & 0 & 0 & 1 & 0 & 20 \\\\ \n",
       "40 \\slash 0 & 0 & 0 & 0 & 1 & 0 & 0 & 0 & 0 & 0 & 0 & 0 & 1 & 40 \\\\ \n",
       "1100 \\slash 10 & 0 & 10 & 15 & 20 & 1 & 0 & 0 & 0 & 0 & 0 & 0 & 0 & 1100 \\\\ \n",
       "\\end{array}\"/>"
      ],
      "text/plain": [
       "<IPython.core.display.Image object>"
      ]
     },
     "execution_count": 6,
     "metadata": {},
     "output_type": "execute_result"
    }
   ],
   "source": [
    "z = [[0,0,0,1],[True for _ in range(4)]]\n",
    "varSubs=[\"I\",\"II\",\"III\",\"a1\",1,2,3,4,5,6,7]\n",
    "r = [[2,3,1,0,\"<=\",100],\n",
    "     [1,1,2,0,\"<=\",120],\n",
    "     [2,2,3,0,\"<=\",176],\n",
    "     [1,2,1,0,\"<=\",132],\n",
    "     [1,0,0,0,\"<=\",80],\n",
    "     [0,1,0,0,\"<=\",20],\n",
    "     [0,0,1,0,\"<=\",40],\n",
    "     [10,15,20,1,\"=\",1100]] # nova restrição\n",
    "\n",
    "m = makeMatrix(z, r, True)\n",
    "printTable(m, z, 'Y', varSubs)"
   ]
  },
  {
   "cell_type": "code",
   "execution_count": 7,
   "metadata": {},
   "outputs": [
    {
     "data": {
      "text/html": [
       "<img src=\"http://latex.codecogs.com/png.latex?\\dpi{150}\\color{black} L_{8} \\rightarrow L_{8}\"/>"
      ],
      "text/plain": [
       "<IPython.core.display.Image object>"
      ]
     },
     "metadata": {},
     "output_type": "display_data"
    },
    {
     "data": {
      "text/html": [
       "<img src=\"http://latex.codecogs.com/png.latex?\\dpi{150}\\color{black} \\begin{array}{c|c|ccccccccccc|c} \n",
       " & Y & x_{I} & x_{II} & x_{III} & x_{a1} & x_{5} & x_{6} & x_{7} & x_{8} & x_{9} & x_{10} & x_{11} & b \\\\ \n",
       "\\hline\n",
       " q & 1 & 0 & 0 & 0 & 1 & 0 & 0 & 0 & 0 & 0 & 0 & 0 & 0 \\\\ \n",
       "100 \\slash 2 & 0 & 2 & 3 & 1 & 0 & 1 & 0 & 0 & 0 & 0 & 0 & 0 & 100 \\\\ \n",
       "120 \\slash 1 & 0 & 1 & 1 & 2 & 0 & 0 & 1 & 0 & 0 & 0 & 0 & 0 & 120 \\\\ \n",
       "176 \\slash 2 & 0 & 2 & 2 & 3 & 0 & 0 & 0 & 1 & 0 & 0 & 0 & 0 & 176 \\\\ \n",
       "132 \\slash 1 & 0 & 1 & 2 & 1 & 0 & 0 & 0 & 0 & 1 & 0 & 0 & 0 & 132 \\\\ \n",
       "80 \\slash 1 & 0 & 1 & 0 & 0 & 0 & 0 & 0 & 0 & 0 & 1 & 0 & 0 & 80 \\\\ \n",
       "20 \\slash 0 & 0 & 0 & 1 & 0 & 0 & 0 & 0 & 0 & 0 & 0 & 1 & 0 & 20 \\\\ \n",
       "40 \\slash 0 & 0 & 0 & 0 & 1 & 0 & 0 & 0 & 0 & 0 & 0 & 0 & 1 & 40 \\\\ \n",
       "1100 \\slash 10 & 0 & 10 & 15 & 20 & 1 & 0 & 0 & 0 & 0 & 0 & 0 & 0 & 1100 \\\\ \n",
       "\\end{array}\"/>"
      ],
      "text/plain": [
       "<IPython.core.display.Image object>"
      ]
     },
     "metadata": {},
     "output_type": "display_data"
    },
    {
     "data": {
      "text/html": [
       "<img src=\"http://latex.codecogs.com/png.latex?\\dpi{150}\\color{black} L_{0} \\rightarrow L_{0}-L_{8}\"/>"
      ],
      "text/plain": [
       "<IPython.core.display.Image object>"
      ]
     },
     "metadata": {},
     "output_type": "display_data"
    },
    {
     "data": {
      "text/html": [
       "<img src=\"http://latex.codecogs.com/png.latex?\\dpi{150}\\color{black} L_{1} \\rightarrow L_{1}\"/>"
      ],
      "text/plain": [
       "<IPython.core.display.Image object>"
      ]
     },
     "metadata": {},
     "output_type": "display_data"
    },
    {
     "data": {
      "text/html": [
       "<img src=\"http://latex.codecogs.com/png.latex?\\dpi{150}\\color{black} L_{2} \\rightarrow L_{2}\"/>"
      ],
      "text/plain": [
       "<IPython.core.display.Image object>"
      ]
     },
     "metadata": {},
     "output_type": "display_data"
    },
    {
     "data": {
      "text/html": [
       "<img src=\"http://latex.codecogs.com/png.latex?\\dpi{150}\\color{black} L_{3} \\rightarrow L_{3}\"/>"
      ],
      "text/plain": [
       "<IPython.core.display.Image object>"
      ]
     },
     "metadata": {},
     "output_type": "display_data"
    },
    {
     "data": {
      "text/html": [
       "<img src=\"http://latex.codecogs.com/png.latex?\\dpi{150}\\color{black} L_{4} \\rightarrow L_{4}\"/>"
      ],
      "text/plain": [
       "<IPython.core.display.Image object>"
      ]
     },
     "metadata": {},
     "output_type": "display_data"
    },
    {
     "data": {
      "text/html": [
       "<img src=\"http://latex.codecogs.com/png.latex?\\dpi{150}\\color{black} L_{5} \\rightarrow L_{5}\"/>"
      ],
      "text/plain": [
       "<IPython.core.display.Image object>"
      ]
     },
     "metadata": {},
     "output_type": "display_data"
    },
    {
     "data": {
      "text/html": [
       "<img src=\"http://latex.codecogs.com/png.latex?\\dpi{150}\\color{black} L_{6} \\rightarrow L_{6}\"/>"
      ],
      "text/plain": [
       "<IPython.core.display.Image object>"
      ]
     },
     "metadata": {},
     "output_type": "display_data"
    },
    {
     "data": {
      "text/html": [
       "<img src=\"http://latex.codecogs.com/png.latex?\\dpi{150}\\color{black} L_{7} \\rightarrow L_{7}\"/>"
      ],
      "text/plain": [
       "<IPython.core.display.Image object>"
      ]
     },
     "metadata": {},
     "output_type": "display_data"
    },
    {
     "data": {
      "text/html": [
       "<img src=\"http://latex.codecogs.com/png.latex?\\dpi{150}\\color{black} \\begin{array}{c|c|ccccccccccc|c} \n",
       " & Y & x_{I} & x_{II} & x_{III} & x_{a1} & x_{5} & x_{6} & x_{7} & x_{8} & x_{9} & x_{10} & x_{11} & b \\\\ \n",
       "\\hline\n",
       " q & 1 & -10 & -15 & -20 & 0 & 0 & 0 & 0 & 0 & 0 & 0 & 0 & -1100 \\\\ \n",
       "100 \\slash 1 & 0 & 2 & 3 & 1 & 0 & 1 & 0 & 0 & 0 & 0 & 0 & 0 & 100 \\\\ \n",
       "120 \\slash 2 & 0 & 1 & 1 & 2 & 0 & 0 & 1 & 0 & 0 & 0 & 0 & 0 & 120 \\\\ \n",
       "176 \\slash 3 & 0 & 2 & 2 & 3 & 0 & 0 & 0 & 1 & 0 & 0 & 0 & 0 & 176 \\\\ \n",
       "132 \\slash 1 & 0 & 1 & 2 & 1 & 0 & 0 & 0 & 0 & 1 & 0 & 0 & 0 & 132 \\\\ \n",
       "80 \\slash 0 & 0 & 1 & 0 & 0 & 0 & 0 & 0 & 0 & 0 & 1 & 0 & 0 & 80 \\\\ \n",
       "20 \\slash 0 & 0 & 0 & 1 & 0 & 0 & 0 & 0 & 0 & 0 & 0 & 1 & 0 & 20 \\\\ \n",
       "40 \\slash 1 & 0 & 0 & 0 & 1 & 0 & 0 & 0 & 0 & 0 & 0 & 0 & 1 & 40 \\\\ \n",
       "1100 \\slash 20 & 0 & 10 & 15 & 20 & 1 & 0 & 0 & 0 & 0 & 0 & 0 & 0 & 1100 \\\\ \n",
       "\\end{array}\"/>"
      ],
      "text/plain": [
       "<IPython.core.display.Image object>"
      ]
     },
     "execution_count": 7,
     "metadata": {},
     "output_type": "execute_result"
    }
   ],
   "source": [
    "makePivot(m, 8, 3, z, 'Y', varSubs)\n",
    "printTable(m, z, 'Y', varSubs)"
   ]
  },
  {
   "cell_type": "code",
   "execution_count": 8,
   "metadata": {},
   "outputs": [
    {
     "data": {
      "text/html": [
       "<img src=\"http://latex.codecogs.com/png.latex?\\dpi{150}\\color{black} L_{7} \\rightarrow L_{7}\"/>"
      ],
      "text/plain": [
       "<IPython.core.display.Image object>"
      ]
     },
     "metadata": {},
     "output_type": "display_data"
    },
    {
     "data": {
      "text/html": [
       "<img src=\"http://latex.codecogs.com/png.latex?\\dpi{150}\\color{black} \\begin{array}{c|c|ccccccccccc|c} \n",
       " & Y & x_{I} & x_{II} & x_{III} & x_{a1} & x_{5} & x_{6} & x_{7} & x_{8} & x_{9} & x_{10} & x_{11} & b \\\\ \n",
       "\\hline\n",
       " q & 1 & -10 & -15 & -20 & 0 & 0 & 0 & 0 & 0 & 0 & 0 & 0 & -1100 \\\\ \n",
       "100 \\slash 1 & 0 & 2 & 3 & 1 & 0 & 1 & 0 & 0 & 0 & 0 & 0 & 0 & 100 \\\\ \n",
       "120 \\slash 2 & 0 & 1 & 1 & 2 & 0 & 0 & 1 & 0 & 0 & 0 & 0 & 0 & 120 \\\\ \n",
       "176 \\slash 3 & 0 & 2 & 2 & 3 & 0 & 0 & 0 & 1 & 0 & 0 & 0 & 0 & 176 \\\\ \n",
       "132 \\slash 1 & 0 & 1 & 2 & 1 & 0 & 0 & 0 & 0 & 1 & 0 & 0 & 0 & 132 \\\\ \n",
       "80 \\slash 0 & 0 & 1 & 0 & 0 & 0 & 0 & 0 & 0 & 0 & 1 & 0 & 0 & 80 \\\\ \n",
       "20 \\slash 0 & 0 & 0 & 1 & 0 & 0 & 0 & 0 & 0 & 0 & 0 & 1 & 0 & 20 \\\\ \n",
       "40 \\slash 1 & 0 & 0 & 0 & 1 & 0 & 0 & 0 & 0 & 0 & 0 & 0 & 1 & 40 \\\\ \n",
       "1100 \\slash 20 & 0 & 10 & 15 & 20 & 1 & 0 & 0 & 0 & 0 & 0 & 0 & 0 & 1100 \\\\ \n",
       "\\end{array}\"/>"
      ],
      "text/plain": [
       "<IPython.core.display.Image object>"
      ]
     },
     "metadata": {},
     "output_type": "display_data"
    },
    {
     "data": {
      "text/html": [
       "<img src=\"http://latex.codecogs.com/png.latex?\\dpi{150}\\color{black} L_{0} \\rightarrow L_{0}+20L_{7}\"/>"
      ],
      "text/plain": [
       "<IPython.core.display.Image object>"
      ]
     },
     "metadata": {},
     "output_type": "display_data"
    },
    {
     "data": {
      "text/html": [
       "<img src=\"http://latex.codecogs.com/png.latex?\\dpi{150}\\color{black} L_{1} \\rightarrow L_{1}-L_{7}\"/>"
      ],
      "text/plain": [
       "<IPython.core.display.Image object>"
      ]
     },
     "metadata": {},
     "output_type": "display_data"
    },
    {
     "data": {
      "text/html": [
       "<img src=\"http://latex.codecogs.com/png.latex?\\dpi{150}\\color{black} L_{2} \\rightarrow L_{2}-2L_{7}\"/>"
      ],
      "text/plain": [
       "<IPython.core.display.Image object>"
      ]
     },
     "metadata": {},
     "output_type": "display_data"
    },
    {
     "data": {
      "text/html": [
       "<img src=\"http://latex.codecogs.com/png.latex?\\dpi{150}\\color{black} L_{3} \\rightarrow L_{3}-3L_{7}\"/>"
      ],
      "text/plain": [
       "<IPython.core.display.Image object>"
      ]
     },
     "metadata": {},
     "output_type": "display_data"
    },
    {
     "data": {
      "text/html": [
       "<img src=\"http://latex.codecogs.com/png.latex?\\dpi{150}\\color{black} L_{4} \\rightarrow L_{4}-L_{7}\"/>"
      ],
      "text/plain": [
       "<IPython.core.display.Image object>"
      ]
     },
     "metadata": {},
     "output_type": "display_data"
    },
    {
     "data": {
      "text/html": [
       "<img src=\"http://latex.codecogs.com/png.latex?\\dpi{150}\\color{black} L_{5} \\rightarrow L_{5}\"/>"
      ],
      "text/plain": [
       "<IPython.core.display.Image object>"
      ]
     },
     "metadata": {},
     "output_type": "display_data"
    },
    {
     "data": {
      "text/html": [
       "<img src=\"http://latex.codecogs.com/png.latex?\\dpi{150}\\color{black} L_{6} \\rightarrow L_{6}\"/>"
      ],
      "text/plain": [
       "<IPython.core.display.Image object>"
      ]
     },
     "metadata": {},
     "output_type": "display_data"
    },
    {
     "data": {
      "text/html": [
       "<img src=\"http://latex.codecogs.com/png.latex?\\dpi{150}\\color{black} L_{8} \\rightarrow L_{8}-20L_{7}\"/>"
      ],
      "text/plain": [
       "<IPython.core.display.Image object>"
      ]
     },
     "metadata": {},
     "output_type": "display_data"
    },
    {
     "data": {
      "text/html": [
       "<img src=\"http://latex.codecogs.com/png.latex?\\dpi{150}\\color{black} \\begin{array}{c|c|ccccccccccc|c} \n",
       " & Y & x_{I} & x_{II} & x_{III} & x_{a1} & x_{5} & x_{6} & x_{7} & x_{8} & x_{9} & x_{10} & x_{11} & b \\\\ \n",
       "\\hline\n",
       " q & 1 & -10 & -15 & 0 & 0 & 0 & 0 & 0 & 0 & 0 & 0 & 20 & -300 \\\\ \n",
       "60 \\slash 3 & 0 & 2 & 3 & 0 & 0 & 1 & 0 & 0 & 0 & 0 & 0 & -1 & 60 \\\\ \n",
       "40 \\slash 1 & 0 & 1 & 1 & 0 & 0 & 0 & 1 & 0 & 0 & 0 & 0 & -2 & 40 \\\\ \n",
       "56 \\slash 2 & 0 & 2 & 2 & 0 & 0 & 0 & 0 & 1 & 0 & 0 & 0 & -3 & 56 \\\\ \n",
       "92 \\slash 2 & 0 & 1 & 2 & 0 & 0 & 0 & 0 & 0 & 1 & 0 & 0 & -1 & 92 \\\\ \n",
       "80 \\slash 0 & 0 & 1 & 0 & 0 & 0 & 0 & 0 & 0 & 0 & 1 & 0 & 0 & 80 \\\\ \n",
       "20 \\slash 1 & 0 & 0 & 1 & 0 & 0 & 0 & 0 & 0 & 0 & 0 & 1 & 0 & 20 \\\\ \n",
       "40 \\slash 0 & 0 & 0 & 0 & 1 & 0 & 0 & 0 & 0 & 0 & 0 & 0 & 1 & 40 \\\\ \n",
       "300 \\slash 15 & 0 & 10 & 15 & 0 & 1 & 0 & 0 & 0 & 0 & 0 & 0 & -20 & 300 \\\\ \n",
       "\\end{array}\"/>"
      ],
      "text/plain": [
       "<IPython.core.display.Image object>"
      ]
     },
     "execution_count": 8,
     "metadata": {},
     "output_type": "execute_result"
    }
   ],
   "source": [
    "makePivot(m, 7, 2, z, 'Y', varSubs)\n",
    "printTable(m, z, 'Y', varSubs)"
   ]
  },
  {
   "cell_type": "code",
   "execution_count": 9,
   "metadata": {},
   "outputs": [
    {
     "data": {
      "text/html": [
       "<img src=\"http://latex.codecogs.com/png.latex?\\dpi{150}\\color{black} L_{8} \\rightarrow \\frac{1}{15}L_{8}\"/>"
      ],
      "text/plain": [
       "<IPython.core.display.Image object>"
      ]
     },
     "metadata": {},
     "output_type": "display_data"
    },
    {
     "data": {
      "text/html": [
       "<img src=\"http://latex.codecogs.com/png.latex?\\dpi{150}\\color{black} \\begin{array}{c|c|ccccccccccc|c} \n",
       " & Y & x_{I} & x_{II} & x_{III} & x_{a1} & x_{5} & x_{6} & x_{7} & x_{8} & x_{9} & x_{10} & x_{11} & b \\\\ \n",
       "\\hline\n",
       " q & 1 & -10 & -15 & 0 & 0 & 0 & 0 & 0 & 0 & 0 & 0 & 20 & -300 \\\\ \n",
       "60 \\slash 3 & 0 & 2 & 3 & 0 & 0 & 1 & 0 & 0 & 0 & 0 & 0 & -1 & 60 \\\\ \n",
       "40 \\slash 1 & 0 & 1 & 1 & 0 & 0 & 0 & 1 & 0 & 0 & 0 & 0 & -2 & 40 \\\\ \n",
       "56 \\slash 2 & 0 & 2 & 2 & 0 & 0 & 0 & 0 & 1 & 0 & 0 & 0 & -3 & 56 \\\\ \n",
       "92 \\slash 2 & 0 & 1 & 2 & 0 & 0 & 0 & 0 & 0 & 1 & 0 & 0 & -1 & 92 \\\\ \n",
       "80 \\slash 0 & 0 & 1 & 0 & 0 & 0 & 0 & 0 & 0 & 0 & 1 & 0 & 0 & 80 \\\\ \n",
       "20 \\slash 1 & 0 & 0 & 1 & 0 & 0 & 0 & 0 & 0 & 0 & 0 & 1 & 0 & 20 \\\\ \n",
       "40 \\slash 0 & 0 & 0 & 0 & 1 & 0 & 0 & 0 & 0 & 0 & 0 & 0 & 1 & 40 \\\\ \n",
       "20 \\slash 1 & 0 & \\frac{2}{3} & 1 & 0 & \\frac{1}{15} & 0 & 0 & 0 & 0 & 0 & 0 & \\frac{-4}{3} & 20 \\\\ \n",
       "\\end{array}\"/>"
      ],
      "text/plain": [
       "<IPython.core.display.Image object>"
      ]
     },
     "metadata": {},
     "output_type": "display_data"
    },
    {
     "data": {
      "text/html": [
       "<img src=\"http://latex.codecogs.com/png.latex?\\dpi{150}\\color{black} L_{0} \\rightarrow L_{0}+15L_{8}\"/>"
      ],
      "text/plain": [
       "<IPython.core.display.Image object>"
      ]
     },
     "metadata": {},
     "output_type": "display_data"
    },
    {
     "data": {
      "text/html": [
       "<img src=\"http://latex.codecogs.com/png.latex?\\dpi{150}\\color{black} L_{1} \\rightarrow L_{1}-3L_{8}\"/>"
      ],
      "text/plain": [
       "<IPython.core.display.Image object>"
      ]
     },
     "metadata": {},
     "output_type": "display_data"
    },
    {
     "data": {
      "text/html": [
       "<img src=\"http://latex.codecogs.com/png.latex?\\dpi{150}\\color{black} L_{2} \\rightarrow L_{2}-L_{8}\"/>"
      ],
      "text/plain": [
       "<IPython.core.display.Image object>"
      ]
     },
     "metadata": {},
     "output_type": "display_data"
    },
    {
     "data": {
      "text/html": [
       "<img src=\"http://latex.codecogs.com/png.latex?\\dpi{150}\\color{black} L_{3} \\rightarrow L_{3}-2L_{8}\"/>"
      ],
      "text/plain": [
       "<IPython.core.display.Image object>"
      ]
     },
     "metadata": {},
     "output_type": "display_data"
    },
    {
     "data": {
      "text/html": [
       "<img src=\"http://latex.codecogs.com/png.latex?\\dpi{150}\\color{black} L_{4} \\rightarrow L_{4}-2L_{8}\"/>"
      ],
      "text/plain": [
       "<IPython.core.display.Image object>"
      ]
     },
     "metadata": {},
     "output_type": "display_data"
    },
    {
     "data": {
      "text/html": [
       "<img src=\"http://latex.codecogs.com/png.latex?\\dpi{150}\\color{black} L_{5} \\rightarrow L_{5}\"/>"
      ],
      "text/plain": [
       "<IPython.core.display.Image object>"
      ]
     },
     "metadata": {},
     "output_type": "display_data"
    },
    {
     "data": {
      "text/html": [
       "<img src=\"http://latex.codecogs.com/png.latex?\\dpi{150}\\color{black} L_{6} \\rightarrow L_{6}-L_{8}\"/>"
      ],
      "text/plain": [
       "<IPython.core.display.Image object>"
      ]
     },
     "metadata": {},
     "output_type": "display_data"
    },
    {
     "data": {
      "text/html": [
       "<img src=\"http://latex.codecogs.com/png.latex?\\dpi{150}\\color{black} L_{7} \\rightarrow L_{7}\"/>"
      ],
      "text/plain": [
       "<IPython.core.display.Image object>"
      ]
     },
     "metadata": {},
     "output_type": "display_data"
    },
    {
     "data": {
      "text/html": [
       "<img src=\"http://latex.codecogs.com/png.latex?\\dpi{150}\\color{black} \\begin{array}{c|c|ccccccccccc|c} \n",
       " & Y & x_{I} & x_{II} & x_{III} & x_{a1} & x_{5} & x_{6} & x_{7} & x_{8} & x_{9} & x_{10} & x_{11} & b \\\\ \n",
       "\\hline\n",
       " q & 1 & 0 & 0 & 0 & 1 & 0 & 0 & 0 & 0 & 0 & 0 & 0 & 0 \\\\ \n",
       "0 \\slash 0 & 0 & 0 & 0 & 0 & \\frac{-1}{5} & 1 & 0 & 0 & 0 & 0 & 0 & 3 & 0 \\\\ \n",
       "60 \\slash 1 & 0 & \\frac{1}{3} & 0 & 0 & \\frac{-1}{15} & 0 & 1 & 0 & 0 & 0 & 0 & \\frac{-2}{3} & 20 \\\\ \n",
       "48 \\slash 2 & 0 & \\frac{2}{3} & 0 & 0 & \\frac{-2}{15} & 0 & 0 & 1 & 0 & 0 & 0 & \\frac{-1}{3} & 16 \\\\ \n",
       "156 \\slash -1 & 0 & \\frac{-1}{3} & 0 & 0 & \\frac{-2}{15} & 0 & 0 & 0 & 1 & 0 & 0 & \\frac{5}{3} & 52 \\\\ \n",
       "80 \\slash 1 & 0 & 1 & 0 & 0 & 0 & 0 & 0 & 0 & 0 & 1 & 0 & 0 & 80 \\\\ \n",
       "0 \\slash -2 & 0 & \\frac{-2}{3} & 0 & 0 & \\frac{-1}{15} & 0 & 0 & 0 & 0 & 0 & 1 & \\frac{4}{3} & 0 \\\\ \n",
       "40 \\slash 0 & 0 & 0 & 0 & 1 & 0 & 0 & 0 & 0 & 0 & 0 & 0 & 1 & 40 \\\\ \n",
       "60 \\slash 2 & 0 & \\frac{2}{3} & 1 & 0 & \\frac{1}{15} & 0 & 0 & 0 & 0 & 0 & 0 & \\frac{-4}{3} & 20 \\\\ \n",
       "\\end{array}\"/>"
      ],
      "text/plain": [
       "<IPython.core.display.Image object>"
      ]
     },
     "execution_count": 9,
     "metadata": {},
     "output_type": "execute_result"
    }
   ],
   "source": [
    "makePivot(m, 8, 1, z, 'Y', varSubs)\n",
    "printTable(m, z, 'Y', varSubs)"
   ]
  },
  {
   "cell_type": "markdown",
   "metadata": {},
   "source": [
    "Solução da primeira fase encontrada, re-substituir a função objetivo $W$, e retirar a coluna da var auxiliar."
   ]
  },
  {
   "cell_type": "code",
   "execution_count": 10,
   "metadata": {},
   "outputs": [
    {
     "data": {
      "text/html": [
       "<img src=\"http://latex.codecogs.com/png.latex?\\dpi{150}\\color{black} \\begin{array}{c|c|cccccccccc|c} \n",
       " & Z & x_{I} & x_{II} & x_{III} & x_{4} & x_{5} & x_{6} & x_{7} & x_{8} & x_{9} & x_{10} & b \\\\ \n",
       "\\hline\n",
       " q & 1 & -1 & -1 & -1 & 0 & 0 & 0 & 0 & 0 & 0 & 0 & 0 \\\\ \n",
       "100 \\slash 2 & 0 & 2 & 3 & 1 & 1 & 0 & 0 & 0 & 0 & 0 & 0 & 100 \\\\ \n",
       "120 \\slash 1 & 0 & 1 & 1 & 2 & 0 & 1 & 0 & 0 & 0 & 0 & 0 & 120 \\\\ \n",
       "176 \\slash 2 & 0 & 2 & 2 & 3 & 0 & 0 & 1 & 0 & 0 & 0 & 0 & 176 \\\\ \n",
       "132 \\slash 1 & 0 & 1 & 2 & 1 & 0 & 0 & 0 & 1 & 0 & 0 & 0 & 132 \\\\ \n",
       "80 \\slash 1 & 0 & 1 & 0 & 0 & 0 & 0 & 0 & 0 & 1 & 0 & 0 & 80 \\\\ \n",
       "20 \\slash 0 & 0 & 0 & 1 & 0 & 0 & 0 & 0 & 0 & 0 & 1 & 0 & 20 \\\\ \n",
       "40 \\slash 0 & 0 & 0 & 0 & 1 & 0 & 0 & 0 & 0 & 0 & 0 & 1 & 40 \\\\ \n",
       "1100 \\slash 10 & 0 & 10 & 15 & 20 & 0 & 0 & 0 & 0 & 0 & 0 & 0 & 1100 \\\\ \n",
       "\\end{array}\"/>"
      ],
      "text/plain": [
       "<IPython.core.display.Image object>"
      ]
     },
     "execution_count": 10,
     "metadata": {},
     "output_type": "execute_result"
    }
   ],
   "source": [
    "z = [[-1,-1,-1],[True for _ in range(3)]]\n",
    "varSubs=[\"I\",\"II\",\"III\",\"a1\",1,2,3,4,5,6,7]\n",
    "r = [[2,3,1,\"<=\",100],\n",
    "     [1,1,2,\"<=\",120],\n",
    "     [2,2,3,\"<=\",176],\n",
    "     [1,2,1,\"<=\",132],\n",
    "     [1,0,0,\"<=\",80],\n",
    "     [0,1,0,\"<=\",20],\n",
    "     [0,0,1,\"<=\",40],\n",
    "     [10,15,20,\"=\",1100]]\n",
    "\n",
    "m = makeMatrix(z, r, True)\n",
    "printTable(m, z, 'Z', varSubs)"
   ]
  },
  {
   "cell_type": "markdown",
   "metadata": {},
   "source": [
    "Uma vez retornada ao problema original, colocar na base as mesmas variáveis que estavam na base na 1ª fase."
   ]
  },
  {
   "cell_type": "code",
   "execution_count": 11,
   "metadata": {},
   "outputs": [
    {
     "data": {
      "text/html": [
       "<img src=\"http://latex.codecogs.com/png.latex?\\dpi{150}\\color{black} L_{8} \\rightarrow \\frac{1}{15}L_{8}\"/>"
      ],
      "text/plain": [
       "<IPython.core.display.Image object>"
      ]
     },
     "metadata": {},
     "output_type": "display_data"
    },
    {
     "data": {
      "text/html": [
       "<img src=\"http://latex.codecogs.com/png.latex?\\dpi{150}\\color{black} \\begin{array}{c|c|cccccccccc|c} \n",
       " & Z & x_{I} & x_{II} & x_{III} & x_{4} & x_{5} & x_{6} & x_{7} & x_{8} & x_{9} & x_{10} & b \\\\ \n",
       "\\hline\n",
       " q & 1 & -1 & -1 & -1 & 0 & 0 & 0 & 0 & 0 & 0 & 0 & 0 \\\\ \n",
       "100 \\slash 2 & 0 & 2 & 3 & 1 & 1 & 0 & 0 & 0 & 0 & 0 & 0 & 100 \\\\ \n",
       "120 \\slash 1 & 0 & 1 & 1 & 2 & 0 & 1 & 0 & 0 & 0 & 0 & 0 & 120 \\\\ \n",
       "176 \\slash 2 & 0 & 2 & 2 & 3 & 0 & 0 & 1 & 0 & 0 & 0 & 0 & 176 \\\\ \n",
       "132 \\slash 1 & 0 & 1 & 2 & 1 & 0 & 0 & 0 & 1 & 0 & 0 & 0 & 132 \\\\ \n",
       "80 \\slash 1 & 0 & 1 & 0 & 0 & 0 & 0 & 0 & 0 & 1 & 0 & 0 & 80 \\\\ \n",
       "20 \\slash 0 & 0 & 0 & 1 & 0 & 0 & 0 & 0 & 0 & 0 & 1 & 0 & 20 \\\\ \n",
       "40 \\slash 0 & 0 & 0 & 0 & 1 & 0 & 0 & 0 & 0 & 0 & 0 & 1 & 40 \\\\ \n",
       "660 \\slash 6 & 0 & \\frac{2}{3} & 1 & \\frac{4}{3} & 0 & 0 & 0 & 0 & 0 & 0 & 0 & \\frac{220}{3} \\\\ \n",
       "\\end{array}\"/>"
      ],
      "text/plain": [
       "<IPython.core.display.Image object>"
      ]
     },
     "metadata": {},
     "output_type": "display_data"
    },
    {
     "data": {
      "text/html": [
       "<img src=\"http://latex.codecogs.com/png.latex?\\dpi{150}\\color{black} L_{0} \\rightarrow L_{0}+L_{8}\"/>"
      ],
      "text/plain": [
       "<IPython.core.display.Image object>"
      ]
     },
     "metadata": {},
     "output_type": "display_data"
    },
    {
     "data": {
      "text/html": [
       "<img src=\"http://latex.codecogs.com/png.latex?\\dpi{150}\\color{black} L_{1} \\rightarrow L_{1}-3L_{8}\"/>"
      ],
      "text/plain": [
       "<IPython.core.display.Image object>"
      ]
     },
     "metadata": {},
     "output_type": "display_data"
    },
    {
     "data": {
      "text/html": [
       "<img src=\"http://latex.codecogs.com/png.latex?\\dpi{150}\\color{black} L_{2} \\rightarrow L_{2}-L_{8}\"/>"
      ],
      "text/plain": [
       "<IPython.core.display.Image object>"
      ]
     },
     "metadata": {},
     "output_type": "display_data"
    },
    {
     "data": {
      "text/html": [
       "<img src=\"http://latex.codecogs.com/png.latex?\\dpi{150}\\color{black} L_{3} \\rightarrow L_{3}-2L_{8}\"/>"
      ],
      "text/plain": [
       "<IPython.core.display.Image object>"
      ]
     },
     "metadata": {},
     "output_type": "display_data"
    },
    {
     "data": {
      "text/html": [
       "<img src=\"http://latex.codecogs.com/png.latex?\\dpi{150}\\color{black} L_{4} \\rightarrow L_{4}-2L_{8}\"/>"
      ],
      "text/plain": [
       "<IPython.core.display.Image object>"
      ]
     },
     "metadata": {},
     "output_type": "display_data"
    },
    {
     "data": {
      "text/html": [
       "<img src=\"http://latex.codecogs.com/png.latex?\\dpi{150}\\color{black} L_{5} \\rightarrow L_{5}\"/>"
      ],
      "text/plain": [
       "<IPython.core.display.Image object>"
      ]
     },
     "metadata": {},
     "output_type": "display_data"
    },
    {
     "data": {
      "text/html": [
       "<img src=\"http://latex.codecogs.com/png.latex?\\dpi{150}\\color{black} L_{6} \\rightarrow L_{6}-L_{8}\"/>"
      ],
      "text/plain": [
       "<IPython.core.display.Image object>"
      ]
     },
     "metadata": {},
     "output_type": "display_data"
    },
    {
     "data": {
      "text/html": [
       "<img src=\"http://latex.codecogs.com/png.latex?\\dpi{150}\\color{black} L_{7} \\rightarrow L_{7}\"/>"
      ],
      "text/plain": [
       "<IPython.core.display.Image object>"
      ]
     },
     "metadata": {},
     "output_type": "display_data"
    },
    {
     "data": {
      "text/html": [
       "<img src=\"http://latex.codecogs.com/png.latex?\\dpi{150}\\color{black} \\begin{array}{c|c|cccccccccc|c} \n",
       " & Z & x_{I} & x_{II} & x_{III} & x_{4} & x_{5} & x_{6} & x_{7} & x_{8} & x_{9} & x_{10} & b \\\\ \n",
       "\\hline\n",
       " q & 1 & \\frac{-1}{3} & 0 & \\frac{1}{3} & 0 & 0 & 0 & 0 & 0 & 0 & 0 & \\frac{220}{3} \\\\ \n",
       "-120 \\slash 0 & 0 & 0 & 0 & -3 & 1 & 0 & 0 & 0 & 0 & 0 & 0 & -120 \\\\ \n",
       "420 \\slash 3 & 0 & \\frac{1}{3} & 0 & \\frac{2}{3} & 0 & 1 & 0 & 0 & 0 & 0 & 0 & \\frac{140}{3} \\\\ \n",
       "264 \\slash 6 & 0 & \\frac{2}{3} & 0 & \\frac{1}{3} & 0 & 0 & 1 & 0 & 0 & 0 & 0 & \\frac{88}{3} \\\\ \n",
       "-132 \\slash -3 & 0 & \\frac{-1}{3} & 0 & \\frac{-5}{3} & 0 & 0 & 0 & 1 & 0 & 0 & 0 & \\frac{-44}{3} \\\\ \n",
       "80 \\slash 1 & 0 & 1 & 0 & 0 & 0 & 0 & 0 & 0 & 1 & 0 & 0 & 80 \\\\ \n",
       "-480 \\slash -6 & 0 & \\frac{-2}{3} & 0 & \\frac{-4}{3} & 0 & 0 & 0 & 0 & 0 & 1 & 0 & \\frac{-160}{3} \\\\ \n",
       "40 \\slash 0 & 0 & 0 & 0 & 1 & 0 & 0 & 0 & 0 & 0 & 0 & 1 & 40 \\\\ \n",
       "660 \\slash 6 & 0 & \\frac{2}{3} & 1 & \\frac{4}{3} & 0 & 0 & 0 & 0 & 0 & 0 & 0 & \\frac{220}{3} \\\\ \n",
       "\\end{array}\"/>"
      ],
      "text/plain": [
       "<IPython.core.display.Image object>"
      ]
     },
     "execution_count": 11,
     "metadata": {},
     "output_type": "execute_result"
    }
   ],
   "source": [
    "makePivot(m, 8, 1, z, 'Z', varSubs)\n",
    "printTable(m, z, 'Z', varSubs)"
   ]
  },
  {
   "cell_type": "code",
   "execution_count": 12,
   "metadata": {},
   "outputs": [
    {
     "data": {
      "text/html": [
       "<img src=\"http://latex.codecogs.com/png.latex?\\dpi{150}\\color{black} L_{7} \\rightarrow L_{7}\"/>"
      ],
      "text/plain": [
       "<IPython.core.display.Image object>"
      ]
     },
     "metadata": {},
     "output_type": "display_data"
    },
    {
     "data": {
      "text/html": [
       "<img src=\"http://latex.codecogs.com/png.latex?\\dpi{150}\\color{black} \\begin{array}{c|c|cccccccccc|c} \n",
       " & Z & x_{I} & x_{II} & x_{III} & x_{4} & x_{5} & x_{6} & x_{7} & x_{8} & x_{9} & x_{10} & b \\\\ \n",
       "\\hline\n",
       " q & 1 & \\frac{-1}{3} & 0 & \\frac{1}{3} & 0 & 0 & 0 & 0 & 0 & 0 & 0 & \\frac{220}{3} \\\\ \n",
       "-120 \\slash 0 & 0 & 0 & 0 & -3 & 1 & 0 & 0 & 0 & 0 & 0 & 0 & -120 \\\\ \n",
       "420 \\slash 3 & 0 & \\frac{1}{3} & 0 & \\frac{2}{3} & 0 & 1 & 0 & 0 & 0 & 0 & 0 & \\frac{140}{3} \\\\ \n",
       "264 \\slash 6 & 0 & \\frac{2}{3} & 0 & \\frac{1}{3} & 0 & 0 & 1 & 0 & 0 & 0 & 0 & \\frac{88}{3} \\\\ \n",
       "-132 \\slash -3 & 0 & \\frac{-1}{3} & 0 & \\frac{-5}{3} & 0 & 0 & 0 & 1 & 0 & 0 & 0 & \\frac{-44}{3} \\\\ \n",
       "80 \\slash 1 & 0 & 1 & 0 & 0 & 0 & 0 & 0 & 0 & 1 & 0 & 0 & 80 \\\\ \n",
       "-480 \\slash -6 & 0 & \\frac{-2}{3} & 0 & \\frac{-4}{3} & 0 & 0 & 0 & 0 & 0 & 1 & 0 & \\frac{-160}{3} \\\\ \n",
       "40 \\slash 0 & 0 & 0 & 0 & 1 & 0 & 0 & 0 & 0 & 0 & 0 & 1 & 40 \\\\ \n",
       "660 \\slash 6 & 0 & \\frac{2}{3} & 1 & \\frac{4}{3} & 0 & 0 & 0 & 0 & 0 & 0 & 0 & \\frac{220}{3} \\\\ \n",
       "\\end{array}\"/>"
      ],
      "text/plain": [
       "<IPython.core.display.Image object>"
      ]
     },
     "metadata": {},
     "output_type": "display_data"
    },
    {
     "data": {
      "text/html": [
       "<img src=\"http://latex.codecogs.com/png.latex?\\dpi{150}\\color{black} L_{0} \\rightarrow L_{0}-\\frac{1}{3}L_{7}\"/>"
      ],
      "text/plain": [
       "<IPython.core.display.Image object>"
      ]
     },
     "metadata": {},
     "output_type": "display_data"
    },
    {
     "data": {
      "text/html": [
       "<img src=\"http://latex.codecogs.com/png.latex?\\dpi{150}\\color{black} L_{1} \\rightarrow L_{1}+3L_{7}\"/>"
      ],
      "text/plain": [
       "<IPython.core.display.Image object>"
      ]
     },
     "metadata": {},
     "output_type": "display_data"
    },
    {
     "data": {
      "text/html": [
       "<img src=\"http://latex.codecogs.com/png.latex?\\dpi{150}\\color{black} L_{2} \\rightarrow L_{2}-\\frac{2}{3}L_{7}\"/>"
      ],
      "text/plain": [
       "<IPython.core.display.Image object>"
      ]
     },
     "metadata": {},
     "output_type": "display_data"
    },
    {
     "data": {
      "text/html": [
       "<img src=\"http://latex.codecogs.com/png.latex?\\dpi{150}\\color{black} L_{3} \\rightarrow L_{3}-\\frac{1}{3}L_{7}\"/>"
      ],
      "text/plain": [
       "<IPython.core.display.Image object>"
      ]
     },
     "metadata": {},
     "output_type": "display_data"
    },
    {
     "data": {
      "text/html": [
       "<img src=\"http://latex.codecogs.com/png.latex?\\dpi{150}\\color{black} L_{4} \\rightarrow L_{4}+\\frac{5}{3}L_{7}\"/>"
      ],
      "text/plain": [
       "<IPython.core.display.Image object>"
      ]
     },
     "metadata": {},
     "output_type": "display_data"
    },
    {
     "data": {
      "text/html": [
       "<img src=\"http://latex.codecogs.com/png.latex?\\dpi{150}\\color{black} L_{5} \\rightarrow L_{5}\"/>"
      ],
      "text/plain": [
       "<IPython.core.display.Image object>"
      ]
     },
     "metadata": {},
     "output_type": "display_data"
    },
    {
     "data": {
      "text/html": [
       "<img src=\"http://latex.codecogs.com/png.latex?\\dpi{150}\\color{black} L_{6} \\rightarrow L_{6}+\\frac{4}{3}L_{7}\"/>"
      ],
      "text/plain": [
       "<IPython.core.display.Image object>"
      ]
     },
     "metadata": {},
     "output_type": "display_data"
    },
    {
     "data": {
      "text/html": [
       "<img src=\"http://latex.codecogs.com/png.latex?\\dpi{150}\\color{black} L_{8} \\rightarrow L_{8}-\\frac{4}{3}L_{7}\"/>"
      ],
      "text/plain": [
       "<IPython.core.display.Image object>"
      ]
     },
     "metadata": {},
     "output_type": "display_data"
    },
    {
     "data": {
      "text/html": [
       "<img src=\"http://latex.codecogs.com/png.latex?\\dpi{150}\\color{black} \\begin{array}{c|c|cccccccccc|c} \n",
       " & Z & x_{I} & x_{II} & x_{III} & x_{4} & x_{5} & x_{6} & x_{7} & x_{8} & x_{9} & x_{10} & b \\\\ \n",
       "\\hline\n",
       " q & 1 & \\frac{-1}{3} & 0 & 0 & 0 & 0 & 0 & 0 & 0 & 0 & \\frac{-1}{3} & 60 \\\\ \n",
       "0 \\slash 0 & 0 & 0 & 0 & 0 & 1 & 0 & 0 & 0 & 0 & 0 & 3 & 0 \\\\ \n",
       "60 \\slash 1 & 0 & \\frac{1}{3} & 0 & 0 & 0 & 1 & 0 & 0 & 0 & 0 & \\frac{-2}{3} & 20 \\\\ \n",
       "48 \\slash 2 & 0 & \\frac{2}{3} & 0 & 0 & 0 & 0 & 1 & 0 & 0 & 0 & \\frac{-1}{3} & 16 \\\\ \n",
       "156 \\slash -1 & 0 & \\frac{-1}{3} & 0 & 0 & 0 & 0 & 0 & 1 & 0 & 0 & \\frac{5}{3} & 52 \\\\ \n",
       "80 \\slash 1 & 0 & 1 & 0 & 0 & 0 & 0 & 0 & 0 & 1 & 0 & 0 & 80 \\\\ \n",
       "0 \\slash -2 & 0 & \\frac{-2}{3} & 0 & 0 & 0 & 0 & 0 & 0 & 0 & 1 & \\frac{4}{3} & 0 \\\\ \n",
       "40 \\slash 0 & 0 & 0 & 0 & 1 & 0 & 0 & 0 & 0 & 0 & 0 & 1 & 40 \\\\ \n",
       "60 \\slash 2 & 0 & \\frac{2}{3} & 1 & 0 & 0 & 0 & 0 & 0 & 0 & 0 & \\frac{-4}{3} & 20 \\\\ \n",
       "\\end{array}\"/>"
      ],
      "text/plain": [
       "<IPython.core.display.Image object>"
      ]
     },
     "execution_count": 12,
     "metadata": {},
     "output_type": "execute_result"
    }
   ],
   "source": [
    "makePivot(m, 7, 2, z, 'Z', varSubs)\n",
    "printTable(m, z, 'Z', varSubs)"
   ]
  },
  {
   "cell_type": "markdown",
   "metadata": {},
   "source": [
    "Agora, prosseguir com o simplex normalmente."
   ]
  },
  {
   "cell_type": "code",
   "execution_count": 13,
   "metadata": {},
   "outputs": [
    {
     "data": {
      "text/html": [
       "<img src=\"http://latex.codecogs.com/png.latex?\\dpi{150}\\color{black} L_{3} \\rightarrow \\frac{3}{2}L_{3}\"/>"
      ],
      "text/plain": [
       "<IPython.core.display.Image object>"
      ]
     },
     "metadata": {},
     "output_type": "display_data"
    },
    {
     "data": {
      "text/html": [
       "<img src=\"http://latex.codecogs.com/png.latex?\\dpi{150}\\color{black} \\begin{array}{c|c|cccccccccc|c} \n",
       " & Z & x_{I} & x_{II} & x_{III} & x_{4} & x_{5} & x_{6} & x_{7} & x_{8} & x_{9} & x_{10} & b \\\\ \n",
       "\\hline\n",
       " q & 1 & \\frac{-1}{3} & 0 & 0 & 0 & 0 & 0 & 0 & 0 & 0 & \\frac{-1}{3} & 60 \\\\ \n",
       "0 \\slash 0 & 0 & 0 & 0 & 0 & 1 & 0 & 0 & 0 & 0 & 0 & 3 & 0 \\\\ \n",
       "60 \\slash 1 & 0 & \\frac{1}{3} & 0 & 0 & 0 & 1 & 0 & 0 & 0 & 0 & \\frac{-2}{3} & 20 \\\\ \n",
       "24 \\slash 1 & 0 & 1 & 0 & 0 & 0 & 0 & \\frac{3}{2} & 0 & 0 & 0 & \\frac{-1}{2} & 24 \\\\ \n",
       "156 \\slash -1 & 0 & \\frac{-1}{3} & 0 & 0 & 0 & 0 & 0 & 1 & 0 & 0 & \\frac{5}{3} & 52 \\\\ \n",
       "80 \\slash 1 & 0 & 1 & 0 & 0 & 0 & 0 & 0 & 0 & 1 & 0 & 0 & 80 \\\\ \n",
       "0 \\slash -2 & 0 & \\frac{-2}{3} & 0 & 0 & 0 & 0 & 0 & 0 & 0 & 1 & \\frac{4}{3} & 0 \\\\ \n",
       "40 \\slash 0 & 0 & 0 & 0 & 1 & 0 & 0 & 0 & 0 & 0 & 0 & 1 & 40 \\\\ \n",
       "60 \\slash 2 & 0 & \\frac{2}{3} & 1 & 0 & 0 & 0 & 0 & 0 & 0 & 0 & \\frac{-4}{3} & 20 \\\\ \n",
       "\\end{array}\"/>"
      ],
      "text/plain": [
       "<IPython.core.display.Image object>"
      ]
     },
     "metadata": {},
     "output_type": "display_data"
    },
    {
     "data": {
      "text/html": [
       "<img src=\"http://latex.codecogs.com/png.latex?\\dpi{150}\\color{black} L_{0} \\rightarrow L_{0}+\\frac{1}{3}L_{3}\"/>"
      ],
      "text/plain": [
       "<IPython.core.display.Image object>"
      ]
     },
     "metadata": {},
     "output_type": "display_data"
    },
    {
     "data": {
      "text/html": [
       "<img src=\"http://latex.codecogs.com/png.latex?\\dpi{150}\\color{black} L_{1} \\rightarrow L_{1}\"/>"
      ],
      "text/plain": [
       "<IPython.core.display.Image object>"
      ]
     },
     "metadata": {},
     "output_type": "display_data"
    },
    {
     "data": {
      "text/html": [
       "<img src=\"http://latex.codecogs.com/png.latex?\\dpi{150}\\color{black} L_{2} \\rightarrow L_{2}-\\frac{1}{3}L_{3}\"/>"
      ],
      "text/plain": [
       "<IPython.core.display.Image object>"
      ]
     },
     "metadata": {},
     "output_type": "display_data"
    },
    {
     "data": {
      "text/html": [
       "<img src=\"http://latex.codecogs.com/png.latex?\\dpi{150}\\color{black} L_{4} \\rightarrow L_{4}+\\frac{1}{3}L_{3}\"/>"
      ],
      "text/plain": [
       "<IPython.core.display.Image object>"
      ]
     },
     "metadata": {},
     "output_type": "display_data"
    },
    {
     "data": {
      "text/html": [
       "<img src=\"http://latex.codecogs.com/png.latex?\\dpi{150}\\color{black} L_{5} \\rightarrow L_{5}-L_{3}\"/>"
      ],
      "text/plain": [
       "<IPython.core.display.Image object>"
      ]
     },
     "metadata": {},
     "output_type": "display_data"
    },
    {
     "data": {
      "text/html": [
       "<img src=\"http://latex.codecogs.com/png.latex?\\dpi{150}\\color{black} L_{6} \\rightarrow L_{6}+\\frac{2}{3}L_{3}\"/>"
      ],
      "text/plain": [
       "<IPython.core.display.Image object>"
      ]
     },
     "metadata": {},
     "output_type": "display_data"
    },
    {
     "data": {
      "text/html": [
       "<img src=\"http://latex.codecogs.com/png.latex?\\dpi{150}\\color{black} L_{7} \\rightarrow L_{7}\"/>"
      ],
      "text/plain": [
       "<IPython.core.display.Image object>"
      ]
     },
     "metadata": {},
     "output_type": "display_data"
    },
    {
     "data": {
      "text/html": [
       "<img src=\"http://latex.codecogs.com/png.latex?\\dpi{150}\\color{black} L_{8} \\rightarrow L_{8}-\\frac{2}{3}L_{3}\"/>"
      ],
      "text/plain": [
       "<IPython.core.display.Image object>"
      ]
     },
     "metadata": {},
     "output_type": "display_data"
    },
    {
     "data": {
      "text/html": [
       "<img src=\"http://latex.codecogs.com/png.latex?\\dpi{150}\\color{black} \\begin{array}{c|c|cccccccccc|c} \n",
       " & Z & x_{I} & x_{II} & x_{III} & x_{4} & x_{5} & x_{6} & x_{7} & x_{8} & x_{9} & x_{10} & b \\\\ \n",
       "\\hline\n",
       " q & 1 & 0 & 0 & 0 & 0 & 0 & \\frac{1}{2} & 0 & 0 & 0 & \\frac{-1}{2} & 68 \\\\ \n",
       "0 \\slash 3 & 0 & 0 & 0 & 0 & 1 & 0 & 0 & 0 & 0 & 0 & 3 & 0 \\\\ \n",
       "24 \\slash -1 & 0 & 0 & 0 & 0 & 0 & 1 & \\frac{-1}{2} & 0 & 0 & 0 & \\frac{-1}{2} & 12 \\\\ \n",
       "48 \\slash -1 & 0 & 1 & 0 & 0 & 0 & 0 & \\frac{3}{2} & 0 & 0 & 0 & \\frac{-1}{2} & 24 \\\\ \n",
       "120 \\slash 3 & 0 & 0 & 0 & 0 & 0 & 0 & \\frac{1}{2} & 1 & 0 & 0 & \\frac{3}{2} & 60 \\\\ \n",
       "112 \\slash 1 & 0 & 0 & 0 & 0 & 0 & 0 & \\frac{-3}{2} & 0 & 1 & 0 & \\frac{1}{2} & 56 \\\\ \n",
       "16 \\slash 1 & 0 & 0 & 0 & 0 & 0 & 0 & 1 & 0 & 0 & 1 & 1 & 16 \\\\ \n",
       "40 \\slash 1 & 0 & 0 & 0 & 1 & 0 & 0 & 0 & 0 & 0 & 0 & 1 & 40 \\\\ \n",
       "4 \\slash -1 & 0 & 0 & 1 & 0 & 0 & 0 & -1 & 0 & 0 & 0 & -1 & 4 \\\\ \n",
       "\\end{array}\"/>"
      ],
      "text/plain": [
       "<IPython.core.display.Image object>"
      ]
     },
     "execution_count": 13,
     "metadata": {},
     "output_type": "execute_result"
    }
   ],
   "source": [
    "makePivot(m, 3, 0, z, 'Z', varSubs)\n",
    "printTable(m, z, 'Z', varSubs)"
   ]
  },
  {
   "cell_type": "code",
   "execution_count": 14,
   "metadata": {},
   "outputs": [
    {
     "data": {
      "text/html": [
       "<img src=\"http://latex.codecogs.com/png.latex?\\dpi{150}\\color{black} L_{1} \\rightarrow \\frac{1}{3}L_{1}\"/>"
      ],
      "text/plain": [
       "<IPython.core.display.Image object>"
      ]
     },
     "metadata": {},
     "output_type": "display_data"
    },
    {
     "data": {
      "text/html": [
       "<img src=\"http://latex.codecogs.com/png.latex?\\dpi{150}\\color{black} \\begin{array}{c|c|cccccccccc|c} \n",
       " & Z & x_{I} & x_{II} & x_{III} & x_{4} & x_{5} & x_{6} & x_{7} & x_{8} & x_{9} & x_{10} & b \\\\ \n",
       "\\hline\n",
       " q & 1 & 0 & 0 & 0 & 0 & 0 & \\frac{1}{2} & 0 & 0 & 0 & \\frac{-1}{2} & 68 \\\\ \n",
       "0 \\slash 1 & 0 & 0 & 0 & 0 & \\frac{1}{3} & 0 & 0 & 0 & 0 & 0 & 1 & 0 \\\\ \n",
       "24 \\slash -1 & 0 & 0 & 0 & 0 & 0 & 1 & \\frac{-1}{2} & 0 & 0 & 0 & \\frac{-1}{2} & 12 \\\\ \n",
       "48 \\slash -1 & 0 & 1 & 0 & 0 & 0 & 0 & \\frac{3}{2} & 0 & 0 & 0 & \\frac{-1}{2} & 24 \\\\ \n",
       "120 \\slash 3 & 0 & 0 & 0 & 0 & 0 & 0 & \\frac{1}{2} & 1 & 0 & 0 & \\frac{3}{2} & 60 \\\\ \n",
       "112 \\slash 1 & 0 & 0 & 0 & 0 & 0 & 0 & \\frac{-3}{2} & 0 & 1 & 0 & \\frac{1}{2} & 56 \\\\ \n",
       "16 \\slash 1 & 0 & 0 & 0 & 0 & 0 & 0 & 1 & 0 & 0 & 1 & 1 & 16 \\\\ \n",
       "40 \\slash 1 & 0 & 0 & 0 & 1 & 0 & 0 & 0 & 0 & 0 & 0 & 1 & 40 \\\\ \n",
       "4 \\slash -1 & 0 & 0 & 1 & 0 & 0 & 0 & -1 & 0 & 0 & 0 & -1 & 4 \\\\ \n",
       "\\end{array}\"/>"
      ],
      "text/plain": [
       "<IPython.core.display.Image object>"
      ]
     },
     "metadata": {},
     "output_type": "display_data"
    },
    {
     "data": {
      "text/html": [
       "<img src=\"http://latex.codecogs.com/png.latex?\\dpi{150}\\color{black} L_{0} \\rightarrow L_{0}+\\frac{1}{2}L_{1}\"/>"
      ],
      "text/plain": [
       "<IPython.core.display.Image object>"
      ]
     },
     "metadata": {},
     "output_type": "display_data"
    },
    {
     "data": {
      "text/html": [
       "<img src=\"http://latex.codecogs.com/png.latex?\\dpi{150}\\color{black} L_{2} \\rightarrow L_{2}+\\frac{1}{2}L_{1}\"/>"
      ],
      "text/plain": [
       "<IPython.core.display.Image object>"
      ]
     },
     "metadata": {},
     "output_type": "display_data"
    },
    {
     "data": {
      "text/html": [
       "<img src=\"http://latex.codecogs.com/png.latex?\\dpi{150}\\color{black} L_{3} \\rightarrow L_{3}+\\frac{1}{2}L_{1}\"/>"
      ],
      "text/plain": [
       "<IPython.core.display.Image object>"
      ]
     },
     "metadata": {},
     "output_type": "display_data"
    },
    {
     "data": {
      "text/html": [
       "<img src=\"http://latex.codecogs.com/png.latex?\\dpi{150}\\color{black} L_{4} \\rightarrow L_{4}-\\frac{3}{2}L_{1}\"/>"
      ],
      "text/plain": [
       "<IPython.core.display.Image object>"
      ]
     },
     "metadata": {},
     "output_type": "display_data"
    },
    {
     "data": {
      "text/html": [
       "<img src=\"http://latex.codecogs.com/png.latex?\\dpi{150}\\color{black} L_{5} \\rightarrow L_{5}-\\frac{1}{2}L_{1}\"/>"
      ],
      "text/plain": [
       "<IPython.core.display.Image object>"
      ]
     },
     "metadata": {},
     "output_type": "display_data"
    },
    {
     "data": {
      "text/html": [
       "<img src=\"http://latex.codecogs.com/png.latex?\\dpi{150}\\color{black} L_{6} \\rightarrow L_{6}-L_{1}\"/>"
      ],
      "text/plain": [
       "<IPython.core.display.Image object>"
      ]
     },
     "metadata": {},
     "output_type": "display_data"
    },
    {
     "data": {
      "text/html": [
       "<img src=\"http://latex.codecogs.com/png.latex?\\dpi{150}\\color{black} L_{7} \\rightarrow L_{7}-L_{1}\"/>"
      ],
      "text/plain": [
       "<IPython.core.display.Image object>"
      ]
     },
     "metadata": {},
     "output_type": "display_data"
    },
    {
     "data": {
      "text/html": [
       "<img src=\"http://latex.codecogs.com/png.latex?\\dpi{150}\\color{black} L_{8} \\rightarrow L_{8}+L_{1}\"/>"
      ],
      "text/plain": [
       "<IPython.core.display.Image object>"
      ]
     },
     "metadata": {},
     "output_type": "display_data"
    },
    {
     "data": {
      "text/html": [
       "<img src=\"http://latex.codecogs.com/png.latex?\\dpi{150}\\color{black} \\begin{array}{c|c|cccccccccc|c} \n",
       " & Z & x_{I} & x_{II} & x_{III} & x_{4} & x_{5} & x_{6} & x_{7} & x_{8} & x_{9} & x_{10} & b \\\\ \n",
       "\\hline\n",
       " q & 1 & 0 & 0 & 0 & \\frac{1}{6} & 0 & \\frac{1}{2} & 0 & 0 & 0 & 0 & 68 \\\\ \n",
       "0 \\slash 0 & 0 & 0 & 0 & 0 & \\frac{1}{3} & 0 & 0 & 0 & 0 & 0 & 1 & 0 \\\\ \n",
       "12 \\slash 0 & 0 & 0 & 0 & 0 & \\frac{1}{6} & 1 & \\frac{-1}{2} & 0 & 0 & 0 & 0 & 12 \\\\ \n",
       "24 \\slash 1 & 0 & 1 & 0 & 0 & \\frac{1}{6} & 0 & \\frac{3}{2} & 0 & 0 & 0 & 0 & 24 \\\\ \n",
       "60 \\slash 0 & 0 & 0 & 0 & 0 & \\frac{-1}{2} & 0 & \\frac{1}{2} & 1 & 0 & 0 & 0 & 60 \\\\ \n",
       "56 \\slash 0 & 0 & 0 & 0 & 0 & \\frac{-1}{6} & 0 & \\frac{-3}{2} & 0 & 1 & 0 & 0 & 56 \\\\ \n",
       "16 \\slash 0 & 0 & 0 & 0 & 0 & \\frac{-1}{3} & 0 & 1 & 0 & 0 & 1 & 0 & 16 \\\\ \n",
       "40 \\slash 0 & 0 & 0 & 0 & 1 & \\frac{-1}{3} & 0 & 0 & 0 & 0 & 0 & 0 & 40 \\\\ \n",
       "4 \\slash 0 & 0 & 0 & 1 & 0 & \\frac{1}{3} & 0 & -1 & 0 & 0 & 0 & 0 & 4 \\\\ \n",
       "\\end{array}\"/>"
      ],
      "text/plain": [
       "<IPython.core.display.Image object>"
      ]
     },
     "execution_count": 14,
     "metadata": {},
     "output_type": "execute_result"
    }
   ],
   "source": [
    "makePivot(m, 1, 9, z, 'Z', varSubs)\n",
    "printTable(m, z, 'Z', varSubs)"
   ]
  },
  {
   "cell_type": "markdown",
   "metadata": {},
   "source": [
    "$Z = 68$\n",
    "\n",
    "$\n",
    "\\begin{cases}\n",
    "x_I = 24 \\\\\n",
    "x_{II} = 4 \\\\\n",
    "x_{III} = 40 \\\\\n",
    "x_4 = x_6 = x_{10} = 0 \\\\\n",
    "x_5 = 12 \\\\\n",
    "x_7 = 60 \\\\\n",
    "x_8 = 56 \\\\\n",
    "x_9 = 16\n",
    "\\end{cases}\n",
    "$"
   ]
  },
  {
   "cell_type": "markdown",
   "metadata": {},
   "source": [
    "Uma maneira de resolver o mesmo problema, só que diminuindo o custo computacional, seria utilizar a solução do problema do lucro como ponto inicial para o problema da quantidade máxima de produtos, modificando a função objetivo e introduzindo a nova restrição de acordo."
   ]
  }
 ],
 "metadata": {
  "kernelspec": {
   "display_name": ".venv",
   "language": "python",
   "name": "python3"
  },
  "language_info": {
   "codemirror_mode": {
    "name": "ipython",
    "version": 3
   },
   "file_extension": ".py",
   "mimetype": "text/x-python",
   "name": "python",
   "nbconvert_exporter": "python",
   "pygments_lexer": "ipython3",
   "version": "3.12.3"
  },
  "orig_nbformat": 4
 },
 "nbformat": 4,
 "nbformat_minor": 2
}
